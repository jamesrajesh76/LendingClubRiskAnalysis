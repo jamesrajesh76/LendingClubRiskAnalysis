{
 "cells": [
  {
   "cell_type": "markdown",
   "id": "9b5c02aa",
   "metadata": {},
   "source": [
    "### Import required libraries"
   ]
  },
  {
   "cell_type": "code",
   "execution_count": 1,
   "id": "5c140c70",
   "metadata": {},
   "outputs": [],
   "source": [
    "import numpy as np, pandas as pd, matplotlib.pyplot  as plt, seaborn as sns\n",
    "import datetime\n",
    "from  matplotlib.ticker import FuncFormatter\n",
    "%matplotlib inline "
   ]
  },
  {
   "cell_type": "markdown",
   "id": "7efd8955",
   "metadata": {},
   "source": [
    "### 0. Load dataset to dataframe"
   ]
  },
  {
   "cell_type": "code",
   "execution_count": 2,
   "id": "71529bdc",
   "metadata": {},
   "outputs": [
    {
     "name": "stderr",
     "output_type": "stream",
     "text": [
      "C:\\Users\\kcnl843\\AppData\\Local\\Temp\\ipykernel_21768\\1890675884.py:1: DtypeWarning: Columns (47) have mixed types. Specify dtype option on import or set low_memory=False.\n",
      "  loan = pd.read_csv('loan.csv')\n"
     ]
    }
   ],
   "source": [
    "loan = pd.read_csv('loan.csv')"
   ]
  },
  {
   "cell_type": "code",
   "execution_count": 3,
   "id": "99eace1f",
   "metadata": {},
   "outputs": [
    {
     "name": "stdout",
     "output_type": "stream",
     "text": [
      "(39717, 111)\n",
      "\n",
      "<class 'pandas.core.frame.DataFrame'>\n",
      "RangeIndex: 39717 entries, 0 to 39716\n",
      "Columns: 111 entries, id to total_il_high_credit_limit\n",
      "dtypes: float64(74), int64(13), object(24)\n",
      "memory usage: 33.6+ MB\n",
      "None\n",
      "['id', 'member_id', 'loan_amnt', 'funded_amnt', 'funded_amnt_inv', 'term', 'int_rate', 'installment', 'grade', 'sub_grade', 'emp_title', 'emp_length', 'home_ownership', 'annual_inc', 'verification_status', 'issue_d', 'loan_status', 'pymnt_plan', 'url', 'desc', 'purpose', 'title', 'zip_code', 'addr_state', 'dti', 'delinq_2yrs', 'earliest_cr_line', 'inq_last_6mths', 'mths_since_last_delinq', 'mths_since_last_record', 'open_acc', 'pub_rec', 'revol_bal', 'revol_util', 'total_acc', 'initial_list_status', 'out_prncp', 'out_prncp_inv', 'total_pymnt', 'total_pymnt_inv', 'total_rec_prncp', 'total_rec_int', 'total_rec_late_fee', 'recoveries', 'collection_recovery_fee', 'last_pymnt_d', 'last_pymnt_amnt', 'next_pymnt_d', 'last_credit_pull_d', 'collections_12_mths_ex_med', 'mths_since_last_major_derog', 'policy_code', 'application_type', 'annual_inc_joint', 'dti_joint', 'verification_status_joint', 'acc_now_delinq', 'tot_coll_amt', 'tot_cur_bal', 'open_acc_6m', 'open_il_6m', 'open_il_12m', 'open_il_24m', 'mths_since_rcnt_il', 'total_bal_il', 'il_util', 'open_rv_12m', 'open_rv_24m', 'max_bal_bc', 'all_util', 'total_rev_hi_lim', 'inq_fi', 'total_cu_tl', 'inq_last_12m', 'acc_open_past_24mths', 'avg_cur_bal', 'bc_open_to_buy', 'bc_util', 'chargeoff_within_12_mths', 'delinq_amnt', 'mo_sin_old_il_acct', 'mo_sin_old_rev_tl_op', 'mo_sin_rcnt_rev_tl_op', 'mo_sin_rcnt_tl', 'mort_acc', 'mths_since_recent_bc', 'mths_since_recent_bc_dlq', 'mths_since_recent_inq', 'mths_since_recent_revol_delinq', 'num_accts_ever_120_pd', 'num_actv_bc_tl', 'num_actv_rev_tl', 'num_bc_sats', 'num_bc_tl', 'num_il_tl', 'num_op_rev_tl', 'num_rev_accts', 'num_rev_tl_bal_gt_0', 'num_sats', 'num_tl_120dpd_2m', 'num_tl_30dpd', 'num_tl_90g_dpd_24m', 'num_tl_op_past_12m', 'pct_tl_nvr_dlq', 'percent_bc_gt_75', 'pub_rec_bankruptcies', 'tax_liens', 'tot_hi_cred_lim', 'total_bal_ex_mort', 'total_bc_limit', 'total_il_high_credit_limit']\n"
     ]
    }
   ],
   "source": [
    "print(loan.shape)\n",
    "print()\n",
    "print(loan.info())\n",
    "# Extract Column list before dropping fields\n",
    "col_list_0_init = loan.columns.tolist()\n",
    "print(col_list_0_init)"
   ]
  },
  {
   "cell_type": "markdown",
   "id": "81613700",
   "metadata": {},
   "source": [
    "##  Data Cleansing (Elimination)\n",
    "### 1. Remove insignificant Columns with NA (NaN) values"
   ]
  },
  {
   "cell_type": "code",
   "execution_count": 4,
   "id": "6e10a6ad",
   "metadata": {},
   "outputs": [],
   "source": [
    "loan.dropna(axis=1, how='all', inplace=True)"
   ]
  },
  {
   "cell_type": "code",
   "execution_count": 5,
   "id": "6fe6a4c5",
   "metadata": {},
   "outputs": [
    {
     "name": "stdout",
     "output_type": "stream",
     "text": [
      "(39717, 57)\n",
      "\n",
      "<class 'pandas.core.frame.DataFrame'>\n",
      "RangeIndex: 39717 entries, 0 to 39716\n",
      "Data columns (total 57 columns):\n",
      " #   Column                      Non-Null Count  Dtype  \n",
      "---  ------                      --------------  -----  \n",
      " 0   id                          39717 non-null  int64  \n",
      " 1   member_id                   39717 non-null  int64  \n",
      " 2   loan_amnt                   39717 non-null  int64  \n",
      " 3   funded_amnt                 39717 non-null  int64  \n",
      " 4   funded_amnt_inv             39717 non-null  float64\n",
      " 5   term                        39717 non-null  object \n",
      " 6   int_rate                    39717 non-null  object \n",
      " 7   installment                 39717 non-null  float64\n",
      " 8   grade                       39717 non-null  object \n",
      " 9   sub_grade                   39717 non-null  object \n",
      " 10  emp_title                   37258 non-null  object \n",
      " 11  emp_length                  38642 non-null  object \n",
      " 12  home_ownership              39717 non-null  object \n",
      " 13  annual_inc                  39717 non-null  float64\n",
      " 14  verification_status         39717 non-null  object \n",
      " 15  issue_d                     39717 non-null  object \n",
      " 16  loan_status                 39717 non-null  object \n",
      " 17  pymnt_plan                  39717 non-null  object \n",
      " 18  url                         39717 non-null  object \n",
      " 19  desc                        26777 non-null  object \n",
      " 20  purpose                     39717 non-null  object \n",
      " 21  title                       39706 non-null  object \n",
      " 22  zip_code                    39717 non-null  object \n",
      " 23  addr_state                  39717 non-null  object \n",
      " 24  dti                         39717 non-null  float64\n",
      " 25  delinq_2yrs                 39717 non-null  int64  \n",
      " 26  earliest_cr_line            39717 non-null  object \n",
      " 27  inq_last_6mths              39717 non-null  int64  \n",
      " 28  mths_since_last_delinq      14035 non-null  float64\n",
      " 29  mths_since_last_record      2786 non-null   float64\n",
      " 30  open_acc                    39717 non-null  int64  \n",
      " 31  pub_rec                     39717 non-null  int64  \n",
      " 32  revol_bal                   39717 non-null  int64  \n",
      " 33  revol_util                  39667 non-null  object \n",
      " 34  total_acc                   39717 non-null  int64  \n",
      " 35  initial_list_status         39717 non-null  object \n",
      " 36  out_prncp                   39717 non-null  float64\n",
      " 37  out_prncp_inv               39717 non-null  float64\n",
      " 38  total_pymnt                 39717 non-null  float64\n",
      " 39  total_pymnt_inv             39717 non-null  float64\n",
      " 40  total_rec_prncp             39717 non-null  float64\n",
      " 41  total_rec_int               39717 non-null  float64\n",
      " 42  total_rec_late_fee          39717 non-null  float64\n",
      " 43  recoveries                  39717 non-null  float64\n",
      " 44  collection_recovery_fee     39717 non-null  float64\n",
      " 45  last_pymnt_d                39646 non-null  object \n",
      " 46  last_pymnt_amnt             39717 non-null  float64\n",
      " 47  next_pymnt_d                1140 non-null   object \n",
      " 48  last_credit_pull_d          39715 non-null  object \n",
      " 49  collections_12_mths_ex_med  39661 non-null  float64\n",
      " 50  policy_code                 39717 non-null  int64  \n",
      " 51  application_type            39717 non-null  object \n",
      " 52  acc_now_delinq              39717 non-null  int64  \n",
      " 53  chargeoff_within_12_mths    39661 non-null  float64\n",
      " 54  delinq_amnt                 39717 non-null  int64  \n",
      " 55  pub_rec_bankruptcies        39020 non-null  float64\n",
      " 56  tax_liens                   39678 non-null  float64\n",
      "dtypes: float64(20), int64(13), object(24)\n",
      "memory usage: 17.3+ MB\n",
      "None\n"
     ]
    }
   ],
   "source": [
    "print(loan.shape)\n",
    "print()\n",
    "print(loan.info())"
   ]
  },
  {
   "cell_type": "code",
   "execution_count": 6,
   "id": "6e41ab40",
   "metadata": {},
   "outputs": [
    {
     "name": "stdout",
     "output_type": "stream",
     "text": [
      "['id', 'member_id', 'loan_amnt', 'funded_amnt', 'funded_amnt_inv', 'term', 'int_rate', 'installment', 'grade', 'sub_grade', 'emp_title', 'emp_length', 'home_ownership', 'annual_inc', 'verification_status', 'issue_d', 'loan_status', 'pymnt_plan', 'url', 'desc', 'purpose', 'title', 'zip_code', 'addr_state', 'dti', 'delinq_2yrs', 'earliest_cr_line', 'inq_last_6mths', 'mths_since_last_delinq', 'mths_since_last_record', 'open_acc', 'pub_rec', 'revol_bal', 'revol_util', 'total_acc', 'initial_list_status', 'out_prncp', 'out_prncp_inv', 'total_pymnt', 'total_pymnt_inv', 'total_rec_prncp', 'total_rec_int', 'total_rec_late_fee', 'recoveries', 'collection_recovery_fee', 'last_pymnt_d', 'last_pymnt_amnt', 'next_pymnt_d', 'last_credit_pull_d', 'collections_12_mths_ex_med', 'policy_code', 'application_type', 'acc_now_delinq', 'chargeoff_within_12_mths', 'delinq_amnt', 'pub_rec_bankruptcies', 'tax_liens']\n"
     ]
    }
   ],
   "source": [
    "# Extract Column list after dropping NA fields\n",
    "col_list_remove_NA = loan.columns.tolist()\n",
    "print(col_list_remove_NA)"
   ]
  },
  {
   "cell_type": "markdown",
   "id": "7bdc3575",
   "metadata": {},
   "source": [
    "## We observer that by chopping NA columns from the dataFrame has reduced the size of dateset by 50% \n",
    "## ~34 MB to ~17 MB"
   ]
  },
  {
   "cell_type": "markdown",
   "id": "49497155",
   "metadata": {},
   "source": [
    "### 2a. Analyse Columns like description, free text fields etc (ID, Member ID, URL, Title, Desc,... ) "
   ]
  },
  {
   "cell_type": "code",
   "execution_count": 7,
   "id": "9c32625d",
   "metadata": {
    "scrolled": true
   },
   "outputs": [
    {
     "name": "stdout",
     "output_type": "stream",
     "text": [
      "        id  member_id                                                url  \\\n",
      "0  1077501    1296599  https://lendingclub.com/browse/loanDetail.acti...   \n",
      "1  1077430    1314167  https://lendingclub.com/browse/loanDetail.acti...   \n",
      "2  1077175    1313524  https://lendingclub.com/browse/loanDetail.acti...   \n",
      "3  1076863    1277178  https://lendingclub.com/browse/loanDetail.acti...   \n",
      "4  1075358    1311748  https://lendingclub.com/browse/loanDetail.acti...   \n",
      "\n",
      "                  title                                               desc  \\\n",
      "0              Computer    Borrower added on 12/22/11 > I need to upgra...   \n",
      "1                  bike    Borrower added on 12/22/11 > I plan to use t...   \n",
      "2  real estate business                                                NaN   \n",
      "3              personel    Borrower added on 12/21/11 > to pay for prop...   \n",
      "4              Personal    Borrower added on 12/21/11 > I plan on combi...   \n",
      "\n",
      "                  emp_title zip_code  \n",
      "0                       NaN    860xx  \n",
      "1                     Ryder    309xx  \n",
      "2                       NaN    606xx  \n",
      "3       AIR RESOURCES BOARD    917xx  \n",
      "4  University Medical Group    972xx  \n"
     ]
    }
   ],
   "source": [
    "print(loan.filter(['id','member_id','url','title','desc','emp_title','zip_code']).head())"
   ]
  },
  {
   "cell_type": "markdown",
   "id": "ee27aeb8",
   "metadata": {},
   "source": [
    "### 2b. Remove the Descriptive columns analyzed above as it doesn't provide an indication for defaulters"
   ]
  },
  {
   "cell_type": "code",
   "execution_count": 8,
   "id": "69582e46",
   "metadata": {},
   "outputs": [
    {
     "name": "stdout",
     "output_type": "stream",
     "text": [
      "(39717, 50)\n",
      "\n",
      "['loan_amnt', 'funded_amnt', 'funded_amnt_inv', 'term', 'int_rate', 'installment', 'grade', 'sub_grade', 'emp_length', 'home_ownership', 'annual_inc', 'verification_status', 'issue_d', 'loan_status', 'pymnt_plan', 'purpose', 'addr_state', 'dti', 'delinq_2yrs', 'earliest_cr_line', 'inq_last_6mths', 'mths_since_last_delinq', 'mths_since_last_record', 'open_acc', 'pub_rec', 'revol_bal', 'revol_util', 'total_acc', 'initial_list_status', 'out_prncp', 'out_prncp_inv', 'total_pymnt', 'total_pymnt_inv', 'total_rec_prncp', 'total_rec_int', 'total_rec_late_fee', 'recoveries', 'collection_recovery_fee', 'last_pymnt_d', 'last_pymnt_amnt', 'next_pymnt_d', 'last_credit_pull_d', 'collections_12_mths_ex_med', 'policy_code', 'application_type', 'acc_now_delinq', 'chargeoff_within_12_mths', 'delinq_amnt', 'pub_rec_bankruptcies', 'tax_liens']\n"
     ]
    }
   ],
   "source": [
    "loan.drop(['id','member_id','url','title','desc','emp_title','zip_code'], inplace=True, axis=1)\n",
    "print(loan.shape)\n",
    "print()\n",
    "# Extract Column list after dropping Desc fields\n",
    "col_list_2_remove_Desc = loan.columns.tolist()\n",
    "print(col_list_2_remove_Desc)"
   ]
  },
  {
   "cell_type": "code",
   "execution_count": 9,
   "id": "4b313f4d",
   "metadata": {},
   "outputs": [
    {
     "name": "stdout",
     "output_type": "stream",
     "text": [
      "(39717, 50)\n",
      "\n",
      "['loan_amnt', 'funded_amnt', 'funded_amnt_inv', 'term', 'int_rate', 'installment', 'grade', 'sub_grade', 'emp_length', 'home_ownership', 'annual_inc', 'verification_status', 'issue_d', 'loan_status', 'pymnt_plan', 'purpose', 'addr_state', 'dti', 'delinq_2yrs', 'earliest_cr_line', 'inq_last_6mths', 'mths_since_last_delinq', 'mths_since_last_record', 'open_acc', 'pub_rec', 'revol_bal', 'revol_util', 'total_acc', 'initial_list_status', 'out_prncp', 'out_prncp_inv', 'total_pymnt', 'total_pymnt_inv', 'total_rec_prncp', 'total_rec_int', 'total_rec_late_fee', 'recoveries', 'collection_recovery_fee', 'last_pymnt_d', 'last_pymnt_amnt', 'next_pymnt_d', 'last_credit_pull_d', 'collections_12_mths_ex_med', 'policy_code', 'application_type', 'acc_now_delinq', 'chargeoff_within_12_mths', 'delinq_amnt', 'pub_rec_bankruptcies', 'tax_liens']\n"
     ]
    }
   ],
   "source": [
    "print(loan.shape)\n",
    "print()\n",
    "# Extract Column list after dropping Desc fields\n",
    "col_list_remove_Desc = loan.columns.tolist()\n",
    "print(col_list_remove_Desc)"
   ]
  },
  {
   "cell_type": "markdown",
   "id": "76c9c734",
   "metadata": {},
   "source": [
    "### 3a. Analyse columns which have Univalue (only one value or a Null for the entire dataset) for example 'pymnt_plan','initial_list_status', etc"
   ]
  },
  {
   "cell_type": "code",
   "execution_count": 10,
   "id": "70e87beb",
   "metadata": {},
   "outputs": [
    {
     "name": "stdout",
     "output_type": "stream",
     "text": [
      "['n']\n",
      "n    39717\n",
      "Name: pymnt_plan, dtype: int64\n",
      "\n",
      "f    39717\n",
      "Name: initial_list_status, dtype: int64\n",
      "\n",
      "1    39717\n",
      "Name: policy_code, dtype: int64\n",
      "\n",
      "INDIVIDUAL    39717\n",
      "Name: application_type, dtype: int64\n",
      "\n",
      "0    39717\n",
      "Name: acc_now_delinq, dtype: int64\n",
      "\n",
      "0.0    39661\n",
      "Name: chargeoff_within_12_mths, dtype: int64\n",
      "\n",
      "0    39717\n",
      "Name: delinq_amnt, dtype: int64\n",
      "\n",
      "0.0    39678\n",
      "Name: tax_liens, dtype: int64\n",
      "\n",
      "0.0    39661\n",
      "Name: collections_12_mths_ex_med, dtype: int64\n"
     ]
    }
   ],
   "source": [
    "print(loan.pymnt_plan.unique())\n",
    "print(loan.pymnt_plan.value_counts())\n",
    "print()\n",
    "print(loan.initial_list_status.value_counts())\n",
    "\n",
    "print()\n",
    "print(loan.policy_code.value_counts())\n",
    "print()\n",
    "print(loan.application_type.value_counts())\n",
    "print()\n",
    "print(loan.acc_now_delinq.value_counts())\n",
    "print()\n",
    "print(loan.chargeoff_within_12_mths.value_counts())\n",
    "print()\n",
    "print(loan.delinq_amnt.value_counts())\n",
    "print()\n",
    "print(loan.tax_liens.value_counts())\n",
    "print()\n",
    "print(loan.collections_12_mths_ex_med.value_counts())"
   ]
  },
  {
   "cell_type": "code",
   "execution_count": 11,
   "id": "c9ec1c1f",
   "metadata": {},
   "outputs": [
    {
     "name": "stdout",
     "output_type": "stream",
     "text": [
      "0.0      670\n",
      "104.0     61\n",
      "89.0      60\n",
      "113.0     59\n",
      "111.0     57\n",
      "        ... \n",
      "19.0       1\n",
      "20.0       1\n",
      "120.0      1\n",
      "129.0      1\n",
      "5.0        1\n",
      "Name: mths_since_last_record, Length: 111, dtype: int64\n",
      "\n"
     ]
    }
   ],
   "source": [
    "print(loan.mths_since_last_record.value_counts())\n",
    "print()\n"
   ]
  },
  {
   "cell_type": "markdown",
   "id": "d47aeea1",
   "metadata": {},
   "source": [
    "### 3b. Remove the above analysed columns which have only one value (or NaN) for ALL the borrowers "
   ]
  },
  {
   "cell_type": "code",
   "execution_count": 12,
   "id": "cabe66f2",
   "metadata": {},
   "outputs": [],
   "source": [
    "loan.drop(['pymnt_plan','initial_list_status', 'policy_code','application_type','acc_now_delinq','delinq_amnt',\n",
    "           'tax_liens','chargeoff_within_12_mths','collections_12_mths_ex_med'], inplace=True, axis=1)"
   ]
  },
  {
   "cell_type": "code",
   "execution_count": 13,
   "id": "115ccef5",
   "metadata": {},
   "outputs": [
    {
     "name": "stdout",
     "output_type": "stream",
     "text": [
      "(39717, 41)\n",
      "\n",
      "['loan_amnt', 'funded_amnt', 'funded_amnt_inv', 'term', 'int_rate', 'installment', 'grade', 'sub_grade', 'emp_length', 'home_ownership', 'annual_inc', 'verification_status', 'issue_d', 'loan_status', 'purpose', 'addr_state', 'dti', 'delinq_2yrs', 'earliest_cr_line', 'inq_last_6mths', 'mths_since_last_delinq', 'mths_since_last_record', 'open_acc', 'pub_rec', 'revol_bal', 'revol_util', 'total_acc', 'out_prncp', 'out_prncp_inv', 'total_pymnt', 'total_pymnt_inv', 'total_rec_prncp', 'total_rec_int', 'total_rec_late_fee', 'recoveries', 'collection_recovery_fee', 'last_pymnt_d', 'last_pymnt_amnt', 'next_pymnt_d', 'last_credit_pull_d', 'pub_rec_bankruptcies']\n"
     ]
    }
   ],
   "source": [
    "print(loan.shape)\n",
    "print()\n",
    "# Extract Column list after dropping UniValue fields\n",
    "col_list_3_remove_UniValue = loan.columns.tolist()\n",
    "print(col_list_3_remove_UniValue)"
   ]
  },
  {
   "cell_type": "markdown",
   "id": "7f9b439e",
   "metadata": {},
   "source": [
    "### 4a. Analyse Funded Amount which is the sanctioned loan amount by LendingClub and other columns that doesn't add value to our analysis\n"
   ]
  },
  {
   "cell_type": "code",
   "execution_count": 14,
   "id": "decb0459",
   "metadata": {},
   "outputs": [
    {
     "data": {
      "text/html": [
       "<div>\n",
       "<style scoped>\n",
       "    .dataframe tbody tr th:only-of-type {\n",
       "        vertical-align: middle;\n",
       "    }\n",
       "\n",
       "    .dataframe tbody tr th {\n",
       "        vertical-align: top;\n",
       "    }\n",
       "\n",
       "    .dataframe thead th {\n",
       "        text-align: right;\n",
       "    }\n",
       "</style>\n",
       "<table border=\"1\" class=\"dataframe\">\n",
       "  <thead>\n",
       "    <tr style=\"text-align: right;\">\n",
       "      <th></th>\n",
       "      <th>funded_amnt</th>\n",
       "      <th>next_pymnt_d</th>\n",
       "      <th>mths_since_last_record</th>\n",
       "    </tr>\n",
       "  </thead>\n",
       "  <tbody>\n",
       "    <tr>\n",
       "      <th>0</th>\n",
       "      <td>5000</td>\n",
       "      <td>NaN</td>\n",
       "      <td>NaN</td>\n",
       "    </tr>\n",
       "    <tr>\n",
       "      <th>1</th>\n",
       "      <td>2500</td>\n",
       "      <td>NaN</td>\n",
       "      <td>NaN</td>\n",
       "    </tr>\n",
       "    <tr>\n",
       "      <th>2</th>\n",
       "      <td>2400</td>\n",
       "      <td>NaN</td>\n",
       "      <td>NaN</td>\n",
       "    </tr>\n",
       "    <tr>\n",
       "      <th>3</th>\n",
       "      <td>10000</td>\n",
       "      <td>NaN</td>\n",
       "      <td>NaN</td>\n",
       "    </tr>\n",
       "    <tr>\n",
       "      <th>4</th>\n",
       "      <td>3000</td>\n",
       "      <td>Jun-16</td>\n",
       "      <td>NaN</td>\n",
       "    </tr>\n",
       "  </tbody>\n",
       "</table>\n",
       "</div>"
      ],
      "text/plain": [
       "   funded_amnt next_pymnt_d  mths_since_last_record\n",
       "0         5000          NaN                     NaN\n",
       "1         2500          NaN                     NaN\n",
       "2         2400          NaN                     NaN\n",
       "3        10000          NaN                     NaN\n",
       "4         3000       Jun-16                     NaN"
      ]
     },
     "execution_count": 14,
     "metadata": {},
     "output_type": "execute_result"
    }
   ],
   "source": [
    "loan.filter(['funded_amnt','next_pymnt_d','mths_since_last_record','chargeoff_within_12_mths','delinq_amnt','tax_liens']).head()"
   ]
  },
  {
   "cell_type": "code",
   "execution_count": 15,
   "id": "38cc94d4",
   "metadata": {},
   "outputs": [
    {
     "name": "stdout",
     "output_type": "stream",
     "text": [
      "10000    2741\n",
      "12000    2244\n",
      "5000     2040\n",
      "6000     1898\n",
      "15000    1784\n",
      "         ... \n",
      "26250       1\n",
      "24725       1\n",
      "31750       1\n",
      "22625       1\n",
      "22350       1\n",
      "Name: funded_amnt, Length: 1041, dtype: int64\n"
     ]
    }
   ],
   "source": [
    "print(loan.funded_amnt.value_counts())"
   ]
  },
  {
   "cell_type": "code",
   "execution_count": 16,
   "id": "ae755fd5",
   "metadata": {},
   "outputs": [
    {
     "name": "stdout",
     "output_type": "stream",
     "text": [
      "Jun-16    1125\n",
      "Jul-16      15\n",
      "Name: next_pymnt_d, dtype: int64\n",
      "\n",
      "0.0      670\n",
      "104.0     61\n",
      "89.0      60\n",
      "113.0     59\n",
      "111.0     57\n",
      "        ... \n",
      "19.0       1\n",
      "20.0       1\n",
      "120.0      1\n",
      "129.0      1\n",
      "5.0        1\n",
      "Name: mths_since_last_record, Length: 111, dtype: int64\n"
     ]
    }
   ],
   "source": [
    "print(loan.next_pymnt_d.value_counts())\n",
    "print()\n",
    "print(loan.mths_since_last_record.value_counts())"
   ]
  },
  {
   "cell_type": "markdown",
   "id": "f724943c",
   "metadata": {},
   "source": [
    "### 4b. Remove the LoanAmt column as we have LoanAmt Requested column and LoanAmtSanctionedbyInvestor column. Also remove columns with more than 80% missing values"
   ]
  },
  {
   "cell_type": "code",
   "execution_count": 17,
   "id": "76dd18c2",
   "metadata": {},
   "outputs": [
    {
     "name": "stdout",
     "output_type": "stream",
     "text": [
      "(39717, 38)\n",
      "\n",
      "['loan_amnt', 'funded_amnt_inv', 'term', 'int_rate', 'installment', 'grade', 'sub_grade', 'emp_length', 'home_ownership', 'annual_inc', 'verification_status', 'issue_d', 'loan_status', 'purpose', 'addr_state', 'dti', 'delinq_2yrs', 'earliest_cr_line', 'inq_last_6mths', 'mths_since_last_delinq', 'open_acc', 'pub_rec', 'revol_bal', 'revol_util', 'total_acc', 'out_prncp', 'out_prncp_inv', 'total_pymnt', 'total_pymnt_inv', 'total_rec_prncp', 'total_rec_int', 'total_rec_late_fee', 'recoveries', 'collection_recovery_fee', 'last_pymnt_d', 'last_pymnt_amnt', 'last_credit_pull_d', 'pub_rec_bankruptcies']\n"
     ]
    }
   ],
   "source": [
    "loan.drop(['funded_amnt','next_pymnt_d','mths_since_last_record'], inplace=True, axis=1)\n",
    "print(loan.shape)\n",
    "print()\n",
    "# Extract Column list after dropping Desc fields\n",
    "col_list_4_remove_lowfreq = loan.columns.tolist()\n",
    "print(col_list_4_remove_lowfreq)"
   ]
  },
  {
   "cell_type": "markdown",
   "id": "d76a227a",
   "metadata": {},
   "source": [
    "### Fields proposed for further removal after due analysis"
   ]
  },
  {
   "cell_type": "code",
   "execution_count": 18,
   "id": "e781f339",
   "metadata": {},
   "outputs": [
    {
     "name": "stdout",
     "output_type": "stream",
     "text": [
      "0.0000      35935\n",
      "2.0000         12\n",
      "1.2000         10\n",
      "3.7100          9\n",
      "1.8800          8\n",
      "            ...  \n",
      "3.7900          1\n",
      "773.4900        1\n",
      "272.8250        1\n",
      "1.7697          1\n",
      "0.2300          1\n",
      "Name: collection_recovery_fee, Length: 2616, dtype: int64\n",
      "\n",
      "0.00       74\n",
      "276.06     21\n",
      "200.00     17\n",
      "50.00      16\n",
      "100.00     15\n",
      "           ..\n",
      "1763.87     1\n",
      "172.27      1\n",
      "889.67      1\n",
      "150.73      1\n",
      "256.59      1\n",
      "Name: last_pymnt_amnt, Length: 34930, dtype: int64\n",
      "\n",
      "11196.569430    26\n",
      "0.000000        16\n",
      "11784.232230    16\n",
      "10956.775960    16\n",
      "5478.387981     15\n",
      "                ..\n",
      "17768.430010     1\n",
      "12794.806580     1\n",
      "6193.803706      1\n",
      "34797.769170     1\n",
      "9195.263334      1\n",
      "Name: total_pymnt, Length: 37850, dtype: int64\n",
      "\n",
      "0.00        165\n",
      "6514.52      16\n",
      "5478.39      14\n",
      "13148.14     14\n",
      "11196.57     12\n",
      "           ... \n",
      "17702.50      1\n",
      "19026.06      1\n",
      "7355.24       1\n",
      "387.55        1\n",
      "980.83        1\n",
      "Name: total_pymnt_inv, Length: 37518, dtype: int64\n",
      "\n",
      "0.00       71\n",
      "1196.57    26\n",
      "514.52     19\n",
      "956.78     17\n",
      "1784.23    17\n",
      "           ..\n",
      "494.53      1\n",
      "1119.88     1\n",
      "62.31       1\n",
      "2656.10     1\n",
      "1695.26     1\n",
      "Name: total_rec_int, Length: 35148, dtype: int64\n",
      "\n",
      "0.000000     37671\n",
      "15.000000      255\n",
      "15.000000       58\n",
      "30.000000       55\n",
      "15.000000       47\n",
      "             ...  \n",
      "35.286832        1\n",
      "15.000000        1\n",
      "14.777500        1\n",
      "14.967774        1\n",
      "19.890000        1\n",
      "Name: total_rec_late_fee, Length: 1356, dtype: int64\n",
      "\n",
      "10000.00    2293\n",
      "12000.00    1805\n",
      "5000.00     1702\n",
      "6000.00     1637\n",
      "15000.00    1400\n",
      "            ... \n",
      "1097.81        1\n",
      "1410.30        1\n",
      "6968.65        1\n",
      "3477.49        1\n",
      "16077.42       1\n",
      "Name: total_rec_prncp, Length: 7976, dtype: int64\n",
      "\n",
      "0.0      443\n",
      "15.0     252\n",
      "30.0     247\n",
      "23.0     247\n",
      "24.0     241\n",
      "        ... \n",
      "89.0       1\n",
      "107.0      1\n",
      "85.0       1\n",
      "97.0       1\n",
      "95.0       1\n",
      "Name: mths_since_last_delinq, Length: 95, dtype: int64\n",
      "\n",
      "0.00       38577\n",
      "1972.60        2\n",
      "827.13         2\n",
      "2277.11        2\n",
      "2963.24        2\n",
      "           ...  \n",
      "782.23         1\n",
      "2296.41        1\n",
      "1928.85        1\n",
      "1061.32        1\n",
      "79.24          1\n",
      "Name: out_prncp, Length: 1137, dtype: int64\n",
      "\n",
      "0.00       38577\n",
      "1972.60        2\n",
      "1664.64        2\n",
      "827.13         2\n",
      "1863.21        1\n",
      "           ...  \n",
      "782.23         1\n",
      "2289.14        1\n",
      "1928.85        1\n",
      "1061.32        1\n",
      "79.24          1\n",
      "Name: out_prncp_inv, Length: 1138, dtype: int64\n",
      "\n",
      "0        994\n",
      "298       14\n",
      "255       14\n",
      "1         12\n",
      "682       11\n",
      "        ... \n",
      "21424      1\n",
      "30747      1\n",
      "23862      1\n",
      "20197      1\n",
      "85607      1\n",
      "Name: revol_bal, Length: 21711, dtype: int64\n",
      "\n",
      "Nov-98    370\n",
      "Oct-99    366\n",
      "Dec-98    348\n",
      "Oct-00    346\n",
      "Dec-97    329\n",
      "         ... \n",
      "Feb-66      1\n",
      "Dec-61      1\n",
      "Oct-54      1\n",
      "Jun-72      1\n",
      "Oct-74      1\n",
      "Name: earliest_cr_line, Length: 526, dtype: int64\n",
      "\n",
      "May-16    10308\n",
      "Apr-16     2547\n",
      "Mar-16     1123\n",
      "Feb-13      843\n",
      "Feb-16      736\n",
      "          ...  \n",
      "May-08        1\n",
      "Jun-08        1\n",
      "Jul-08        1\n",
      "May-07        1\n",
      "Jul-07        1\n",
      "Name: last_credit_pull_d, Length: 106, dtype: int64\n",
      "\n",
      "May-16    1256\n",
      "Mar-13    1026\n",
      "Dec-14     945\n",
      "May-13     907\n",
      "Feb-13     869\n",
      "          ... \n",
      "Jun-08      10\n",
      "Nov-08      10\n",
      "Mar-08       5\n",
      "Jan-08       4\n",
      "Feb-08       1\n",
      "Name: last_pymnt_d, Length: 101, dtype: int64\n",
      "\n",
      "0     35405\n",
      "1      3303\n",
      "2       687\n",
      "3       220\n",
      "4        62\n",
      "5        22\n",
      "6        10\n",
      "7         4\n",
      "8         2\n",
      "9         1\n",
      "11        1\n",
      "Name: delinq_2yrs, dtype: int64\n"
     ]
    }
   ],
   "source": [
    "print(loan.collection_recovery_fee.value_counts())\n",
    "print()\n",
    "print(loan.last_pymnt_amnt.value_counts())\n",
    "print()\n",
    "print(loan.total_pymnt.value_counts())\n",
    "print()\n",
    "print(loan.total_pymnt_inv.value_counts())\n",
    "print()\n",
    "print(loan.total_rec_int.value_counts())\n",
    "print()\n",
    "print(loan.total_rec_late_fee.value_counts())\n",
    "print()\n",
    "print(loan.total_rec_prncp.value_counts())\n",
    "print()\n",
    "print(loan.mths_since_last_delinq.value_counts())\n",
    "print()\n",
    "print(loan.out_prncp.value_counts())\n",
    "print()\n",
    "print(loan.out_prncp_inv.value_counts())\n",
    "print()\n",
    "print(loan.revol_bal.value_counts())\n",
    "print()\n",
    "print(loan.earliest_cr_line.value_counts())\n",
    "print()\n",
    "print(loan.last_credit_pull_d.value_counts())\n",
    "print()\n",
    "print(loan.last_pymnt_d.value_counts())\n",
    "print()\n",
    "print(loan.delinq_2yrs.value_counts())"
   ]
  },
  {
   "cell_type": "code",
   "execution_count": 19,
   "id": "e44b8348",
   "metadata": {},
   "outputs": [
    {
     "data": {
      "text/html": [
       "<div>\n",
       "<style scoped>\n",
       "    .dataframe tbody tr th:only-of-type {\n",
       "        vertical-align: middle;\n",
       "    }\n",
       "\n",
       "    .dataframe tbody tr th {\n",
       "        vertical-align: top;\n",
       "    }\n",
       "\n",
       "    .dataframe thead th {\n",
       "        text-align: right;\n",
       "    }\n",
       "</style>\n",
       "<table border=\"1\" class=\"dataframe\">\n",
       "  <thead>\n",
       "    <tr style=\"text-align: right;\">\n",
       "      <th></th>\n",
       "      <th>collection_recovery_fee</th>\n",
       "      <th>last_pymnt_amnt</th>\n",
       "      <th>total_pymnt</th>\n",
       "      <th>total_pymnt_inv</th>\n",
       "      <th>total_rec_int</th>\n",
       "      <th>total_rec_late_fee</th>\n",
       "      <th>total_rec_prncp</th>\n",
       "      <th>mths_since_last_delinq</th>\n",
       "      <th>out_prncp</th>\n",
       "      <th>out_prncp_inv</th>\n",
       "      <th>revol_bal</th>\n",
       "      <th>earliest_cr_line</th>\n",
       "      <th>last_credit_pull_d</th>\n",
       "      <th>last_pymnt_d</th>\n",
       "      <th>delinq_2yrs</th>\n",
       "    </tr>\n",
       "  </thead>\n",
       "  <tbody>\n",
       "    <tr>\n",
       "      <th>0</th>\n",
       "      <td>0.00</td>\n",
       "      <td>171.62</td>\n",
       "      <td>5863.155187</td>\n",
       "      <td>5833.84</td>\n",
       "      <td>863.16</td>\n",
       "      <td>0.00</td>\n",
       "      <td>5000.00</td>\n",
       "      <td>NaN</td>\n",
       "      <td>0.00</td>\n",
       "      <td>0.00</td>\n",
       "      <td>13648</td>\n",
       "      <td>Jan-85</td>\n",
       "      <td>May-16</td>\n",
       "      <td>Jan-15</td>\n",
       "      <td>0</td>\n",
       "    </tr>\n",
       "    <tr>\n",
       "      <th>1</th>\n",
       "      <td>1.11</td>\n",
       "      <td>119.66</td>\n",
       "      <td>1008.710000</td>\n",
       "      <td>1008.71</td>\n",
       "      <td>435.17</td>\n",
       "      <td>0.00</td>\n",
       "      <td>456.46</td>\n",
       "      <td>NaN</td>\n",
       "      <td>0.00</td>\n",
       "      <td>0.00</td>\n",
       "      <td>1687</td>\n",
       "      <td>Apr-99</td>\n",
       "      <td>Sep-13</td>\n",
       "      <td>Apr-13</td>\n",
       "      <td>0</td>\n",
       "    </tr>\n",
       "    <tr>\n",
       "      <th>2</th>\n",
       "      <td>0.00</td>\n",
       "      <td>649.91</td>\n",
       "      <td>3005.666844</td>\n",
       "      <td>3005.67</td>\n",
       "      <td>605.67</td>\n",
       "      <td>0.00</td>\n",
       "      <td>2400.00</td>\n",
       "      <td>NaN</td>\n",
       "      <td>0.00</td>\n",
       "      <td>0.00</td>\n",
       "      <td>2956</td>\n",
       "      <td>Nov-01</td>\n",
       "      <td>May-16</td>\n",
       "      <td>Jun-14</td>\n",
       "      <td>0</td>\n",
       "    </tr>\n",
       "    <tr>\n",
       "      <th>3</th>\n",
       "      <td>0.00</td>\n",
       "      <td>357.48</td>\n",
       "      <td>12231.890000</td>\n",
       "      <td>12231.89</td>\n",
       "      <td>2214.92</td>\n",
       "      <td>16.97</td>\n",
       "      <td>10000.00</td>\n",
       "      <td>35.0</td>\n",
       "      <td>0.00</td>\n",
       "      <td>0.00</td>\n",
       "      <td>5598</td>\n",
       "      <td>Feb-96</td>\n",
       "      <td>Apr-16</td>\n",
       "      <td>Jan-15</td>\n",
       "      <td>0</td>\n",
       "    </tr>\n",
       "    <tr>\n",
       "      <th>4</th>\n",
       "      <td>0.00</td>\n",
       "      <td>67.79</td>\n",
       "      <td>3513.330000</td>\n",
       "      <td>3513.33</td>\n",
       "      <td>1037.39</td>\n",
       "      <td>0.00</td>\n",
       "      <td>2475.94</td>\n",
       "      <td>38.0</td>\n",
       "      <td>524.06</td>\n",
       "      <td>524.06</td>\n",
       "      <td>27783</td>\n",
       "      <td>Jan-96</td>\n",
       "      <td>May-16</td>\n",
       "      <td>May-16</td>\n",
       "      <td>0</td>\n",
       "    </tr>\n",
       "  </tbody>\n",
       "</table>\n",
       "</div>"
      ],
      "text/plain": [
       "   collection_recovery_fee  last_pymnt_amnt   total_pymnt  total_pymnt_inv  \\\n",
       "0                     0.00           171.62   5863.155187          5833.84   \n",
       "1                     1.11           119.66   1008.710000          1008.71   \n",
       "2                     0.00           649.91   3005.666844          3005.67   \n",
       "3                     0.00           357.48  12231.890000         12231.89   \n",
       "4                     0.00            67.79   3513.330000          3513.33   \n",
       "\n",
       "   total_rec_int  total_rec_late_fee  total_rec_prncp  mths_since_last_delinq  \\\n",
       "0         863.16                0.00          5000.00                     NaN   \n",
       "1         435.17                0.00           456.46                     NaN   \n",
       "2         605.67                0.00          2400.00                     NaN   \n",
       "3        2214.92               16.97         10000.00                    35.0   \n",
       "4        1037.39                0.00          2475.94                    38.0   \n",
       "\n",
       "   out_prncp  out_prncp_inv  revol_bal earliest_cr_line last_credit_pull_d  \\\n",
       "0       0.00           0.00      13648           Jan-85             May-16   \n",
       "1       0.00           0.00       1687           Apr-99             Sep-13   \n",
       "2       0.00           0.00       2956           Nov-01             May-16   \n",
       "3       0.00           0.00       5598           Feb-96             Apr-16   \n",
       "4     524.06         524.06      27783           Jan-96             May-16   \n",
       "\n",
       "  last_pymnt_d  delinq_2yrs  \n",
       "0       Jan-15            0  \n",
       "1       Apr-13            0  \n",
       "2       Jun-14            0  \n",
       "3       Jan-15            0  \n",
       "4       May-16            0  "
      ]
     },
     "execution_count": 19,
     "metadata": {},
     "output_type": "execute_result"
    }
   ],
   "source": [
    "loan.filter(['collection_recovery_fee','last_pymnt_amnt','total_pymnt','total_pymnt_inv',\n",
    "'total_rec_int','total_rec_late_fee','total_rec_prncp','mths_since_last_delinq','out_prncp','out_prncp_inv',\n",
    "'revol_bal','earliest_cr_line','last_credit_pull_d','last_pymnt_d','delinq_2yrs']).head()"
   ]
  },
  {
   "cell_type": "markdown",
   "id": "27c08a84",
   "metadata": {},
   "source": [
    "### Fields proposed for removal after analysing"
   ]
  },
  {
   "cell_type": "code",
   "execution_count": 20,
   "id": "07af5ea4",
   "metadata": {},
   "outputs": [],
   "source": [
    "#loan.drop(['last_pymnt_amnt','collection_recovery_fee','total_pymnt','total_pymnt_inv','total_rec_int',\n",
    "#'total_rec_late_fee','total_rec_prncp','mths_since_last_delinq','out_prncp','out_prncp_inv','revol_bal',\n",
    "#'earliest_cr_line','last_credit_pull_d','last_pymnt_d','delinq_2yrs'], inplace=True, axis=1)"
   ]
  },
  {
   "cell_type": "code",
   "execution_count": 21,
   "id": "d451e42f",
   "metadata": {},
   "outputs": [
    {
     "data": {
      "text/plain": [
       "(39717, 38)"
      ]
     },
     "execution_count": 21,
     "metadata": {},
     "output_type": "execute_result"
    }
   ],
   "source": [
    "loan.shape"
   ]
  },
  {
   "cell_type": "markdown",
   "id": "e4062040",
   "metadata": {},
   "source": [
    "### List the distinct values in each column for Analysis"
   ]
  },
  {
   "cell_type": "code",
   "execution_count": 22,
   "id": "50c0900f",
   "metadata": {},
   "outputs": [
    {
     "name": "stdout",
     "output_type": "stream",
     "text": [
      "loan_amnt 885\n",
      "funded_amnt_inv 8205\n",
      "term 2\n",
      "int_rate 371\n",
      "installment 15383\n",
      "grade 7\n",
      "sub_grade 35\n",
      "emp_length 11\n",
      "home_ownership 5\n",
      "annual_inc 5318\n",
      "verification_status 3\n",
      "issue_d 55\n",
      "loan_status 3\n",
      "purpose 14\n",
      "addr_state 50\n",
      "dti 2868\n",
      "delinq_2yrs 11\n",
      "earliest_cr_line 526\n",
      "inq_last_6mths 9\n",
      "mths_since_last_delinq 95\n",
      "open_acc 40\n",
      "pub_rec 5\n",
      "revol_bal 21711\n",
      "revol_util 1089\n",
      "total_acc 82\n",
      "out_prncp 1137\n",
      "out_prncp_inv 1138\n",
      "total_pymnt 37850\n",
      "total_pymnt_inv 37518\n",
      "total_rec_prncp 7976\n",
      "total_rec_int 35148\n",
      "total_rec_late_fee 1356\n",
      "recoveries 4040\n",
      "collection_recovery_fee 2616\n",
      "last_pymnt_d 101\n",
      "last_pymnt_amnt 34930\n",
      "last_credit_pull_d 106\n",
      "pub_rec_bankruptcies 3\n"
     ]
    }
   ],
   "source": [
    "for i in loan.columns:\n",
    "    print(i, loan[i].nunique())"
   ]
  },
  {
   "cell_type": "markdown",
   "id": "ed1fcbd3",
   "metadata": {},
   "source": [
    "### 5a. Analyse Current Accounts if they have any delinquency detail"
   ]
  },
  {
   "cell_type": "code",
   "execution_count": 23,
   "id": "630d4b09",
   "metadata": {},
   "outputs": [
    {
     "name": "stdout",
     "output_type": "stream",
     "text": [
      "       last_pymnt_amnt  collection_recovery_fee   total_pymnt  \\\n",
      "count      1140.000000                   1140.0   1140.000000   \n",
      "mean        397.468491                      0.0  21852.875561   \n",
      "std         206.315770                      0.0  11192.456060   \n",
      "min          21.740000                      0.0   1236.180000   \n",
      "25%         258.470000                      0.0  14348.472500   \n",
      "50%         369.555000                      0.0  20370.955000   \n",
      "75%         521.137500                      0.0  28795.752500   \n",
      "max        1203.560000                      0.0  54427.230000   \n",
      "\n",
      "       total_pymnt_inv  total_rec_int  total_rec_late_fee  total_rec_prncp  \\\n",
      "count      1140.000000    1140.000000         1140.000000      1140.000000   \n",
      "mean      21582.041684    7150.753254            1.172878     14700.949465   \n",
      "std       11008.820927    4381.742988            6.351423      7204.816641   \n",
      "min        1236.180000     302.010000            0.000000       911.610000   \n",
      "25%       14030.205000    3851.382500            0.000000     10140.985000   \n",
      "50%       20052.040000    6564.595000            0.000000     13652.825000   \n",
      "75%       28535.392500    9468.620000            0.000000     19386.250000   \n",
      "max       53494.050000   23506.560000          104.560000     34911.470000   \n",
      "\n",
      "       mths_since_last_delinq    out_prncp  out_prncp_inv      revol_bal  \\\n",
      "count              363.000000  1140.000000    1140.000000    1140.000000   \n",
      "mean                36.595041  1784.752632    1776.456684   16530.893860   \n",
      "std                 21.733918  1345.871778    1343.456758   16194.498722   \n",
      "min                  1.000000    10.260000      10.260000       0.000000   \n",
      "25%                 18.000000   692.575000     680.482500    6088.250000   \n",
      "50%                 34.000000  1521.025000    1500.780000   12627.500000   \n",
      "75%                 50.500000  2542.967500    2540.837500   21488.250000   \n",
      "max                103.000000  6311.470000    6307.370000  145384.000000   \n",
      "\n",
      "       delinq_2yrs  \n",
      "count  1140.000000  \n",
      "mean      0.141228  \n",
      "std       0.476177  \n",
      "min       0.000000  \n",
      "25%       0.000000  \n",
      "50%       0.000000  \n",
      "75%       0.000000  \n",
      "max       5.000000  \n"
     ]
    }
   ],
   "source": [
    "print(loan[loan.loan_status=='Current'].filter(['last_pymnt_amnt','collection_recovery_fee','total_pymnt','total_pymnt_inv','total_rec_int',\n",
    "'total_rec_late_fee','total_rec_prncp','mths_since_last_delinq','out_prncp','out_prncp_inv','revol_bal',\n",
    "'earliest_cr_line','last_credit_pull_d','last_pymnt_d','delinq_2yrs']).describe())"
   ]
  },
  {
   "cell_type": "code",
   "execution_count": 24,
   "id": "306d88e4",
   "metadata": {},
   "outputs": [
    {
     "name": "stdout",
     "output_type": "stream",
     "text": [
      "0    1019\n",
      "1      96\n",
      "2      14\n",
      "3       8\n",
      "4       2\n",
      "5       1\n",
      "Name: delinq_2yrs, dtype: int64\n"
     ]
    }
   ],
   "source": [
    "print(loan[loan.loan_status=='Current'].filter(['last_pymnt_amnt','collection_recovery_fee','total_pymnt','total_pymnt_inv','total_rec_int',\n",
    "'total_rec_late_fee','total_rec_prncp','mths_since_last_delinq','out_prncp','out_prncp_inv','revol_bal',\n",
    "'earliest_cr_line','last_credit_pull_d','last_pymnt_d','delinq_2yrs']).delinq_2yrs.value_counts())"
   ]
  },
  {
   "cell_type": "markdown",
   "id": "6ef30cca",
   "metadata": {},
   "source": [
    "### 5b. Remove rows (loan_status = \"Current\") of borrowers whom we do not know if they will default or not in future)"
   ]
  },
  {
   "cell_type": "code",
   "execution_count": 25,
   "id": "c73bbccd",
   "metadata": {},
   "outputs": [],
   "source": [
    "loan.drop(loan.index[loan.loan_status=='Current'], inplace=True)"
   ]
  },
  {
   "cell_type": "code",
   "execution_count": 26,
   "id": "1e795b9f",
   "metadata": {},
   "outputs": [
    {
     "data": {
      "text/plain": [
       "(38577, 38)"
      ]
     },
     "execution_count": 26,
     "metadata": {},
     "output_type": "execute_result"
    }
   ],
   "source": [
    "loan.shape"
   ]
  },
  {
   "cell_type": "markdown",
   "id": "213c5730",
   "metadata": {},
   "source": [
    "### 6. Remove rows which got NA for revol_util field. percentage of such rows is negligilble. Since this is a percentage/ratio field imputing with mean or mode is not considered"
   ]
  },
  {
   "cell_type": "code",
   "execution_count": 27,
   "id": "1343bf0b",
   "metadata": {},
   "outputs": [
    {
     "data": {
      "text/html": [
       "<div>\n",
       "<style scoped>\n",
       "    .dataframe tbody tr th:only-of-type {\n",
       "        vertical-align: middle;\n",
       "    }\n",
       "\n",
       "    .dataframe tbody tr th {\n",
       "        vertical-align: top;\n",
       "    }\n",
       "\n",
       "    .dataframe thead th {\n",
       "        text-align: right;\n",
       "    }\n",
       "</style>\n",
       "<table border=\"1\" class=\"dataframe\">\n",
       "  <thead>\n",
       "    <tr style=\"text-align: right;\">\n",
       "      <th></th>\n",
       "      <th>loan_amnt</th>\n",
       "      <th>funded_amnt_inv</th>\n",
       "      <th>installment</th>\n",
       "      <th>annual_inc</th>\n",
       "      <th>dti</th>\n",
       "      <th>delinq_2yrs</th>\n",
       "      <th>inq_last_6mths</th>\n",
       "      <th>mths_since_last_delinq</th>\n",
       "      <th>open_acc</th>\n",
       "      <th>pub_rec</th>\n",
       "      <th>...</th>\n",
       "      <th>out_prncp_inv</th>\n",
       "      <th>total_pymnt</th>\n",
       "      <th>total_pymnt_inv</th>\n",
       "      <th>total_rec_prncp</th>\n",
       "      <th>total_rec_int</th>\n",
       "      <th>total_rec_late_fee</th>\n",
       "      <th>recoveries</th>\n",
       "      <th>collection_recovery_fee</th>\n",
       "      <th>last_pymnt_amnt</th>\n",
       "      <th>pub_rec_bankruptcies</th>\n",
       "    </tr>\n",
       "  </thead>\n",
       "  <tbody>\n",
       "    <tr>\n",
       "      <th>count</th>\n",
       "      <td>50.000000</td>\n",
       "      <td>50.000000</td>\n",
       "      <td>50.000000</td>\n",
       "      <td>50.000000</td>\n",
       "      <td>50.00000</td>\n",
       "      <td>50.000000</td>\n",
       "      <td>50.000000</td>\n",
       "      <td>13.000000</td>\n",
       "      <td>50.000000</td>\n",
       "      <td>50.000000</td>\n",
       "      <td>...</td>\n",
       "      <td>50.0</td>\n",
       "      <td>50.000000</td>\n",
       "      <td>50.00000</td>\n",
       "      <td>50.000000</td>\n",
       "      <td>50.000000</td>\n",
       "      <td>50.000000</td>\n",
       "      <td>50.000000</td>\n",
       "      <td>50.000000</td>\n",
       "      <td>50.00000</td>\n",
       "      <td>50.000000</td>\n",
       "    </tr>\n",
       "    <tr>\n",
       "      <th>mean</th>\n",
       "      <td>4698.000000</td>\n",
       "      <td>3704.505323</td>\n",
       "      <td>158.856000</td>\n",
       "      <td>44694.800000</td>\n",
       "      <td>10.47900</td>\n",
       "      <td>0.160000</td>\n",
       "      <td>0.860000</td>\n",
       "      <td>39.769231</td>\n",
       "      <td>4.660000</td>\n",
       "      <td>0.040000</td>\n",
       "      <td>...</td>\n",
       "      <td>0.0</td>\n",
       "      <td>4441.818078</td>\n",
       "      <td>3704.11740</td>\n",
       "      <td>3417.336200</td>\n",
       "      <td>902.790200</td>\n",
       "      <td>1.798758</td>\n",
       "      <td>119.893200</td>\n",
       "      <td>27.731648</td>\n",
       "      <td>466.74860</td>\n",
       "      <td>0.020000</td>\n",
       "    </tr>\n",
       "    <tr>\n",
       "      <th>std</th>\n",
       "      <td>3742.805479</td>\n",
       "      <td>2716.215654</td>\n",
       "      <td>117.332184</td>\n",
       "      <td>63204.597452</td>\n",
       "      <td>7.40248</td>\n",
       "      <td>0.650275</td>\n",
       "      <td>0.903734</td>\n",
       "      <td>23.717623</td>\n",
       "      <td>2.811129</td>\n",
       "      <td>0.197949</td>\n",
       "      <td>...</td>\n",
       "      <td>0.0</td>\n",
       "      <td>3839.019997</td>\n",
       "      <td>3449.38971</td>\n",
       "      <td>3182.447144</td>\n",
       "      <td>866.928243</td>\n",
       "      <td>4.920517</td>\n",
       "      <td>347.757765</td>\n",
       "      <td>113.017954</td>\n",
       "      <td>718.69348</td>\n",
       "      <td>0.141421</td>\n",
       "    </tr>\n",
       "    <tr>\n",
       "      <th>min</th>\n",
       "      <td>700.000000</td>\n",
       "      <td>0.000000</td>\n",
       "      <td>23.350000</td>\n",
       "      <td>4200.000000</td>\n",
       "      <td>0.00000</td>\n",
       "      <td>0.000000</td>\n",
       "      <td>0.000000</td>\n",
       "      <td>4.000000</td>\n",
       "      <td>2.000000</td>\n",
       "      <td>0.000000</td>\n",
       "      <td>...</td>\n",
       "      <td>0.0</td>\n",
       "      <td>89.790000</td>\n",
       "      <td>0.00000</td>\n",
       "      <td>0.000000</td>\n",
       "      <td>0.000000</td>\n",
       "      <td>0.000000</td>\n",
       "      <td>0.000000</td>\n",
       "      <td>0.000000</td>\n",
       "      <td>0.00000</td>\n",
       "      <td>0.000000</td>\n",
       "    </tr>\n",
       "    <tr>\n",
       "      <th>25%</th>\n",
       "      <td>2000.000000</td>\n",
       "      <td>1843.750000</td>\n",
       "      <td>70.915000</td>\n",
       "      <td>19152.000000</td>\n",
       "      <td>3.82500</td>\n",
       "      <td>0.000000</td>\n",
       "      <td>0.000000</td>\n",
       "      <td>15.000000</td>\n",
       "      <td>2.000000</td>\n",
       "      <td>0.000000</td>\n",
       "      <td>...</td>\n",
       "      <td>0.0</td>\n",
       "      <td>1788.048566</td>\n",
       "      <td>1472.05250</td>\n",
       "      <td>1400.000000</td>\n",
       "      <td>253.215000</td>\n",
       "      <td>0.000000</td>\n",
       "      <td>0.000000</td>\n",
       "      <td>0.000000</td>\n",
       "      <td>73.97250</td>\n",
       "      <td>0.000000</td>\n",
       "    </tr>\n",
       "    <tr>\n",
       "      <th>50%</th>\n",
       "      <td>3100.000000</td>\n",
       "      <td>2854.518126</td>\n",
       "      <td>110.765000</td>\n",
       "      <td>36000.000000</td>\n",
       "      <td>11.44000</td>\n",
       "      <td>0.000000</td>\n",
       "      <td>1.000000</td>\n",
       "      <td>42.000000</td>\n",
       "      <td>3.000000</td>\n",
       "      <td>0.000000</td>\n",
       "      <td>...</td>\n",
       "      <td>0.0</td>\n",
       "      <td>3232.375548</td>\n",
       "      <td>2610.82000</td>\n",
       "      <td>2500.000000</td>\n",
       "      <td>656.630000</td>\n",
       "      <td>0.000000</td>\n",
       "      <td>0.000000</td>\n",
       "      <td>0.000000</td>\n",
       "      <td>115.85500</td>\n",
       "      <td>0.000000</td>\n",
       "    </tr>\n",
       "    <tr>\n",
       "      <th>75%</th>\n",
       "      <td>5975.000000</td>\n",
       "      <td>4987.500000</td>\n",
       "      <td>201.140000</td>\n",
       "      <td>45000.000000</td>\n",
       "      <td>16.60000</td>\n",
       "      <td>0.000000</td>\n",
       "      <td>1.000000</td>\n",
       "      <td>49.000000</td>\n",
       "      <td>6.750000</td>\n",
       "      <td>0.000000</td>\n",
       "      <td>...</td>\n",
       "      <td>0.0</td>\n",
       "      <td>6369.777500</td>\n",
       "      <td>6052.49250</td>\n",
       "      <td>4999.997500</td>\n",
       "      <td>1415.537500</td>\n",
       "      <td>0.000000</td>\n",
       "      <td>48.865000</td>\n",
       "      <td>0.565000</td>\n",
       "      <td>517.94500</td>\n",
       "      <td>0.000000</td>\n",
       "    </tr>\n",
       "    <tr>\n",
       "      <th>max</th>\n",
       "      <td>20000.000000</td>\n",
       "      <td>14900.000000</td>\n",
       "      <td>535.240000</td>\n",
       "      <td>444000.000000</td>\n",
       "      <td>23.95000</td>\n",
       "      <td>4.000000</td>\n",
       "      <td>3.000000</td>\n",
       "      <td>74.000000</td>\n",
       "      <td>12.000000</td>\n",
       "      <td>1.000000</td>\n",
       "      <td>...</td>\n",
       "      <td>0.0</td>\n",
       "      <td>18617.151420</td>\n",
       "      <td>18493.04000</td>\n",
       "      <td>15000.000000</td>\n",
       "      <td>3617.150000</td>\n",
       "      <td>15.000000</td>\n",
       "      <td>1978.880000</td>\n",
       "      <td>692.590000</td>\n",
       "      <td>3292.07000</td>\n",
       "      <td>1.000000</td>\n",
       "    </tr>\n",
       "  </tbody>\n",
       "</table>\n",
       "<p>8 rows × 23 columns</p>\n",
       "</div>"
      ],
      "text/plain": [
       "          loan_amnt  funded_amnt_inv  installment     annual_inc       dti  \\\n",
       "count     50.000000        50.000000    50.000000      50.000000  50.00000   \n",
       "mean    4698.000000      3704.505323   158.856000   44694.800000  10.47900   \n",
       "std     3742.805479      2716.215654   117.332184   63204.597452   7.40248   \n",
       "min      700.000000         0.000000    23.350000    4200.000000   0.00000   \n",
       "25%     2000.000000      1843.750000    70.915000   19152.000000   3.82500   \n",
       "50%     3100.000000      2854.518126   110.765000   36000.000000  11.44000   \n",
       "75%     5975.000000      4987.500000   201.140000   45000.000000  16.60000   \n",
       "max    20000.000000     14900.000000   535.240000  444000.000000  23.95000   \n",
       "\n",
       "       delinq_2yrs  inq_last_6mths  mths_since_last_delinq   open_acc  \\\n",
       "count    50.000000       50.000000               13.000000  50.000000   \n",
       "mean      0.160000        0.860000               39.769231   4.660000   \n",
       "std       0.650275        0.903734               23.717623   2.811129   \n",
       "min       0.000000        0.000000                4.000000   2.000000   \n",
       "25%       0.000000        0.000000               15.000000   2.000000   \n",
       "50%       0.000000        1.000000               42.000000   3.000000   \n",
       "75%       0.000000        1.000000               49.000000   6.750000   \n",
       "max       4.000000        3.000000               74.000000  12.000000   \n",
       "\n",
       "         pub_rec  ...  out_prncp_inv   total_pymnt  total_pymnt_inv  \\\n",
       "count  50.000000  ...           50.0     50.000000         50.00000   \n",
       "mean    0.040000  ...            0.0   4441.818078       3704.11740   \n",
       "std     0.197949  ...            0.0   3839.019997       3449.38971   \n",
       "min     0.000000  ...            0.0     89.790000          0.00000   \n",
       "25%     0.000000  ...            0.0   1788.048566       1472.05250   \n",
       "50%     0.000000  ...            0.0   3232.375548       2610.82000   \n",
       "75%     0.000000  ...            0.0   6369.777500       6052.49250   \n",
       "max     1.000000  ...            0.0  18617.151420      18493.04000   \n",
       "\n",
       "       total_rec_prncp  total_rec_int  total_rec_late_fee   recoveries  \\\n",
       "count        50.000000      50.000000           50.000000    50.000000   \n",
       "mean       3417.336200     902.790200            1.798758   119.893200   \n",
       "std        3182.447144     866.928243            4.920517   347.757765   \n",
       "min           0.000000       0.000000            0.000000     0.000000   \n",
       "25%        1400.000000     253.215000            0.000000     0.000000   \n",
       "50%        2500.000000     656.630000            0.000000     0.000000   \n",
       "75%        4999.997500    1415.537500            0.000000    48.865000   \n",
       "max       15000.000000    3617.150000           15.000000  1978.880000   \n",
       "\n",
       "       collection_recovery_fee  last_pymnt_amnt  pub_rec_bankruptcies  \n",
       "count                50.000000         50.00000             50.000000  \n",
       "mean                 27.731648        466.74860              0.020000  \n",
       "std                 113.017954        718.69348              0.141421  \n",
       "min                   0.000000          0.00000              0.000000  \n",
       "25%                   0.000000         73.97250              0.000000  \n",
       "50%                   0.000000        115.85500              0.000000  \n",
       "75%                   0.565000        517.94500              0.000000  \n",
       "max                 692.590000       3292.07000              1.000000  \n",
       "\n",
       "[8 rows x 23 columns]"
      ]
     },
     "execution_count": 27,
     "metadata": {},
     "output_type": "execute_result"
    }
   ],
   "source": [
    "loan[loan['revol_util'].isna()].describe()"
   ]
  },
  {
   "cell_type": "code",
   "execution_count": 28,
   "id": "6f7598c2",
   "metadata": {},
   "outputs": [],
   "source": [
    "loan.dropna(axis=0, subset='revol_util', inplace=True)"
   ]
  },
  {
   "cell_type": "code",
   "execution_count": 29,
   "id": "87d110eb",
   "metadata": {},
   "outputs": [
    {
     "data": {
      "text/plain": [
       "(38527, 38)"
      ]
     },
     "execution_count": 29,
     "metadata": {},
     "output_type": "execute_result"
    }
   ],
   "source": [
    "loan.shape"
   ]
  },
  {
   "cell_type": "markdown",
   "id": "48cbbeee",
   "metadata": {},
   "source": [
    "## Data Curing \n",
    "\n",
    "### 7. Remove % symbol from Interest Rate column and ' months' from 'Term' field. Convert string objects to Integer/Float which will be used for finding the Correlation"
   ]
  },
  {
   "cell_type": "code",
   "execution_count": 30,
   "id": "69d77279",
   "metadata": {},
   "outputs": [],
   "source": [
    "loan.int_rate = loan.int_rate.map(lambda x: str(x).rstrip('%')).astype(float)\n",
    "loan.term = loan.term.map(lambda x: str(x).rstrip(' months').lstrip()).astype(int)\n",
    "loan.revol_util = loan.revol_util.map(lambda x: str(x).rstrip('%')).astype(float)\n",
    "loan['annual_inc'] = loan['annual_inc'].apply(np.int64)\n",
    "loan['funded_amnt_inv'] = loan['funded_amnt_inv'].apply(np.int64)"
   ]
  },
  {
   "cell_type": "markdown",
   "id": "b97fdb4f",
   "metadata": {},
   "source": [
    "### 8a. Analyse the string characters in the \"employment length\" field and cast as int to use in Correlation analysis"
   ]
  },
  {
   "cell_type": "code",
   "execution_count": 31,
   "id": "c4d1ac7e",
   "metadata": {},
   "outputs": [
    {
     "name": "stdout",
     "output_type": "stream",
     "text": [
      "0    10+ years\n",
      "Name: emp_length, dtype: object\n",
      "\n",
      "          loan_amnt  funded_amnt_inv         term     int_rate  installment  \\\n",
      "count   1030.000000      1030.000000  1030.000000  1030.000000  1030.000000   \n",
      "mean    8430.558252      8124.438835    41.219417    10.784485   243.335835   \n",
      "std     6633.213599      6247.428115     9.905502     3.803020   182.163330   \n",
      "min     1000.000000       400.000000    36.000000     5.420000    23.010000   \n",
      "25%     3900.000000      3781.250000    36.000000     7.490000   114.242500   \n",
      "50%     6400.000000      6250.000000    36.000000    10.375000   193.850000   \n",
      "75%    10475.000000     10000.000000    36.000000    13.490000   322.250000   \n",
      "max    35000.000000     35000.000000    60.000000    22.110000  1269.730000   \n",
      "\n",
      "          annual_inc          dti  delinq_2yrs  inq_last_6mths  \\\n",
      "count    1030.000000  1030.000000  1030.000000     1030.000000   \n",
      "mean    45972.526214    12.847553     0.131068        0.848544   \n",
      "std     38002.221697     7.090870     0.446676        1.091701   \n",
      "min      4200.000000     0.000000     0.000000        0.000000   \n",
      "25%     25000.000000     7.172500     0.000000        0.000000   \n",
      "50%     38388.000000    12.770000     0.000000        0.000000   \n",
      "75%     57600.000000    18.767500     0.000000        1.000000   \n",
      "max    648000.000000    29.860000     4.000000        7.000000   \n",
      "\n",
      "       mths_since_last_delinq  ...  out_prncp_inv   total_pymnt  \\\n",
      "count              334.000000  ...         1030.0   1030.000000   \n",
      "mean                38.425150  ...            0.0   8608.411080   \n",
      "std                 22.252282  ...            0.0   7597.966520   \n",
      "min                  2.000000  ...            0.0      0.000000   \n",
      "25%                 21.000000  ...            0.0   3285.547026   \n",
      "50%                 35.500000  ...            0.0   6498.732109   \n",
      "75%                 54.000000  ...            0.0  11362.883490   \n",
      "max                 83.000000  ...            0.0  55368.409950   \n",
      "\n",
      "       total_pymnt_inv  total_rec_prncp  total_rec_int  total_rec_late_fee  \\\n",
      "count      1030.000000      1030.000000    1030.000000         1030.000000   \n",
      "mean       8463.862903      7051.070243    1474.820680            0.995522   \n",
      "std        7469.372161      6046.708119    2068.493742            5.459508   \n",
      "min           0.000000         0.000000       0.000000            0.000000   \n",
      "25%        3256.142500      2619.302500     381.482500            0.000000   \n",
      "50%        6378.655000      5400.000000     812.800000            0.000000   \n",
      "75%       11094.097500     10000.000000    1640.732500            0.000000   \n",
      "max       52231.740000     35000.000000   20368.410000           90.000000   \n",
      "\n",
      "        recoveries  collection_recovery_fee  last_pymnt_amnt  \\\n",
      "count  1030.000000              1030.000000      1030.000000   \n",
      "mean     81.524573                11.238799      1907.046087   \n",
      "std     442.593944               100.537103      3595.264749   \n",
      "min       0.000000                 0.000000         0.000000   \n",
      "25%       0.000000                 0.000000       147.990000   \n",
      "50%       0.000000                 0.000000       326.175000   \n",
      "75%       0.000000                 0.000000      1900.385000   \n",
      "max    7008.280000              2453.390000     24934.840000   \n",
      "\n",
      "       pub_rec_bankruptcies  \n",
      "count           1030.000000  \n",
      "mean               0.103883  \n",
      "std                0.305258  \n",
      "min                0.000000  \n",
      "25%                0.000000  \n",
      "50%                0.000000  \n",
      "75%                0.000000  \n",
      "max                1.000000  \n",
      "\n",
      "[8 rows x 26 columns]\n"
     ]
    }
   ],
   "source": [
    "print(loan['emp_length'].mode())\n",
    "print()\n",
    "print(loan[loan['emp_length'].isna()].describe())\n"
   ]
  },
  {
   "cell_type": "markdown",
   "id": "146d073c",
   "metadata": {},
   "source": [
    "### 8b. Impute Employment Length with MODE() for the ~1000 rows which are missing value. Also remove the suffix text to make the field an Integer"
   ]
  },
  {
   "cell_type": "code",
   "execution_count": 32,
   "id": "5e24df40",
   "metadata": {},
   "outputs": [],
   "source": [
    "loan.emp_length.fillna(loan.emp_length.mode()[0],inplace=True)\n",
    "loan.emp_length = pd.to_numeric(loan.emp_length.apply(lambda x: 0 if \"<\" in str(x) else \n",
    "                                                      (str(x).split('+')[0] if \"+\" in str(x) else str(x).split()[0])))"
   ]
  },
  {
   "cell_type": "markdown",
   "id": "ad975365",
   "metadata": {},
   "source": [
    "### Reassign the very small percentage (3 rows) of home owners in 'None' bucket to 'Other' bucket to reduce the # of home owner categories from 5 to 4. None is meaningless. Hence have moved them to 'Other' bucket"
   ]
  },
  {
   "cell_type": "code",
   "execution_count": 33,
   "id": "7ab37c89",
   "metadata": {},
   "outputs": [
    {
     "data": {
      "text/plain": [
       "RENT        18448\n",
       "MORTGAGE    17010\n",
       "OWN          2970\n",
       "OTHER          96\n",
       "NONE            3\n",
       "Name: home_ownership, dtype: int64"
      ]
     },
     "execution_count": 33,
     "metadata": {},
     "output_type": "execute_result"
    }
   ],
   "source": [
    "loan.home_ownership.value_counts()"
   ]
  },
  {
   "cell_type": "code",
   "execution_count": 34,
   "id": "07dbe9e1",
   "metadata": {},
   "outputs": [],
   "source": [
    "loan['home_ownership']= loan['home_ownership'].replace(to_replace='NONE', value='OTHER')"
   ]
  },
  {
   "cell_type": "code",
   "execution_count": 35,
   "id": "7aee2d15",
   "metadata": {},
   "outputs": [
    {
     "data": {
      "text/plain": [
       "RENT        18448\n",
       "MORTGAGE    17010\n",
       "OWN          2970\n",
       "OTHER          99\n",
       "Name: home_ownership, dtype: int64"
      ]
     },
     "execution_count": 35,
     "metadata": {},
     "output_type": "execute_result"
    }
   ],
   "source": [
    "loan.home_ownership.value_counts()"
   ]
  },
  {
   "cell_type": "code",
   "execution_count": 36,
   "id": "53bd67b2",
   "metadata": {},
   "outputs": [
    {
     "data": {
      "text/plain": [
       "(38527, 38)"
      ]
     },
     "execution_count": 36,
     "metadata": {},
     "output_type": "execute_result"
    }
   ],
   "source": [
    "loan.shape"
   ]
  },
  {
   "cell_type": "markdown",
   "id": "6cbcb40e",
   "metadata": {},
   "source": [
    "### 9. Create derived attributes for Grade/SubGrade & Year/Month Analysis "
   ]
  },
  {
   "cell_type": "markdown",
   "id": "39d42600",
   "metadata": {},
   "source": [
    "#### Add 2 additional fields to the dataFrame by casting the string field as int for correlation analysis"
   ]
  },
  {
   "cell_type": "code",
   "execution_count": 37,
   "id": "2d09e417",
   "metadata": {},
   "outputs": [],
   "source": [
    "grade_dict = {'A': 1,'B': 2,'C': 3,'D': 4,'E': 5,'F': 6, 'G':7}\n",
    "loan['grade_int'] =  [grade_dict[item] for item in loan.grade]"
   ]
  },
  {
   "cell_type": "code",
   "execution_count": 38,
   "id": "062949cd",
   "metadata": {},
   "outputs": [],
   "source": [
    "loan['sub_grade_int'] = loan.sub_grade.apply(lambda x : x[-1] if len(str(x))>1 else x ).astype(int)"
   ]
  },
  {
   "cell_type": "code",
   "execution_count": 39,
   "id": "8f2d4b38",
   "metadata": {},
   "outputs": [],
   "source": [
    "mon_yy = (pd.to_datetime(loan.issue_d, format='%b-%y'))\n",
    "\n",
    "loan['IssuedYear'] = pd.DatetimeIndex(mon_yy).year\n",
    "loan['IssuedMonth'] = pd.DatetimeIndex(mon_yy).month # Not used much for our analysis"
   ]
  },
  {
   "cell_type": "code",
   "execution_count": 40,
   "id": "e3169a5c",
   "metadata": {},
   "outputs": [
    {
     "name": "stdout",
     "output_type": "stream",
     "text": [
      "(38527, 42)\n",
      "\n",
      "['loan_amnt', 'funded_amnt_inv', 'term', 'int_rate', 'installment', 'grade', 'sub_grade', 'emp_length', 'home_ownership', 'annual_inc', 'verification_status', 'issue_d', 'loan_status', 'purpose', 'addr_state', 'dti', 'delinq_2yrs', 'earliest_cr_line', 'inq_last_6mths', 'mths_since_last_delinq', 'open_acc', 'pub_rec', 'revol_bal', 'revol_util', 'total_acc', 'out_prncp', 'out_prncp_inv', 'total_pymnt', 'total_pymnt_inv', 'total_rec_prncp', 'total_rec_int', 'total_rec_late_fee', 'recoveries', 'collection_recovery_fee', 'last_pymnt_d', 'last_pymnt_amnt', 'last_credit_pull_d', 'pub_rec_bankruptcies', 'grade_int', 'sub_grade_int', 'IssuedYear', 'IssuedMonth']\n"
     ]
    }
   ],
   "source": [
    "# Extract Column list After dropping fields\n",
    "print(loan.shape)\n",
    "print()\n",
    "col_list_final = loan.columns.tolist()\n",
    "print(col_list_final)"
   ]
  },
  {
   "cell_type": "code",
   "execution_count": 124,
   "id": "b8b60e18",
   "metadata": {},
   "outputs": [
    {
     "name": "stdout",
     "output_type": "stream",
     "text": [
      "40K - 60K      11253\n",
      "60K - 80K       7619\n",
      "25K - 40K       7133\n",
      "100K - 250K     5186\n",
      "80K - 100K      4513\n",
      "Below 25K       2531\n",
      "Above 250K       292\n",
      "Name: annual_inc_bin, dtype: int64\n",
      "(38527, 44)\n"
     ]
    }
   ],
   "source": [
    "bins = [0,25000, 40000, 60000, 80000, 100000, 250000, 10000000]\n",
    "labels = [\"Below 25K\",\"25K - 40K\", \"40K - 60K\",\"60K - 80K\" , \"80K - 100K\", \"100K - 250K\" ,\"Above 250K\"]\n",
    "#loan['annual_inc_bin'] = np.searchsorted(bins, loan['annual_inc'].values)\n",
    "\n",
    "loan['annual_inc_bin'] = pd.cut(loan['annual_inc'], bins=bins, labels=labels)\n",
    "\n",
    "print(loan['annual_inc_bin'].value_counts())"
   ]
  },
  {
   "cell_type": "code",
   "execution_count": 117,
   "id": "549c1111",
   "metadata": {},
   "outputs": [
    {
     "data": {
      "text/plain": [
       "count     38456.000000\n",
       "mean      67249.151810\n",
       "std       41096.733062\n",
       "min        4000.000000\n",
       "25%       40000.000000\n",
       "50%       58800.000000\n",
       "75%       82000.000000\n",
       "max      487000.000000\n",
       "Name: annual_inc, dtype: float64"
      ]
     },
     "execution_count": 117,
     "metadata": {},
     "output_type": "execute_result"
    }
   ],
   "source": [
    "loan[loan['annual_inc'] < 500000].annual_inc.describe()"
   ]
  },
  {
   "cell_type": "code",
   "execution_count": 131,
   "id": "5915b4f3",
   "metadata": {},
   "outputs": [
    {
     "data": {
      "text/plain": [
       "10-15%       18245\n",
       "6-10%        10970\n",
       "15-20%        7199\n",
       "Below 6%      1346\n",
       "Above 20%      767\n",
       "Name: int_rate_bin, dtype: int64"
      ]
     },
     "execution_count": 131,
     "metadata": {},
     "output_type": "execute_result"
    }
   ],
   "source": [
    "bins = [0, 6, 10, 15, 20, 50]\n",
    "labels = [\"Below 6%\",\"6-10%\", \"10-15%\", \"15-20%\", \"Above 20%\"]\n",
    "#loan['int_rate_bin'] = np.searchsorted(bins, loan['int_rate'].values)\n",
    "\n",
    "loan['int_rate_bin'] = pd.cut(loan['int_rate'], bins=bins, labels=labels)\n",
    "\n",
    "loan['int_rate_bin'].value_counts()"
   ]
  },
  {
   "cell_type": "code",
   "execution_count": 128,
   "id": "f2173d9a",
   "metadata": {},
   "outputs": [
    {
     "data": {
      "text/plain": [
       "count    38527.000000\n",
       "mean        11.927378\n",
       "std          3.690161\n",
       "min          5.420000\n",
       "25%          8.940000\n",
       "50%         11.710000\n",
       "75%         14.350000\n",
       "max         24.400000\n",
       "Name: int_rate, dtype: float64"
      ]
     },
     "execution_count": 128,
     "metadata": {},
     "output_type": "execute_result"
    }
   ],
   "source": [
    "loan['int_rate'].describe()"
   ]
  },
  {
   "cell_type": "code",
   "execution_count": 183,
   "id": "161a1751",
   "metadata": {},
   "outputs": [
    {
     "data": {
      "text/plain": [
       "Below 5K     10514\n",
       "9K - 14K      9656\n",
       "5K - 9K       8617\n",
       "14K - 24K     7464\n",
       "Above 24K     2128\n",
       "LC Funded      148\n",
       "Name: funded_amnt_inv_bin, dtype: int64"
      ]
     },
     "execution_count": 183,
     "metadata": {},
     "output_type": "execute_result"
    }
   ],
   "source": [
    "bins = [-1, 0, 5000, 8750, 14000, 24000, 36000]\n",
    "labels = [\"LC Funded\",\"Below 5K\",\"5K - 9K\", \"9K - 14K\",\"14K - 24K\" , \"Above 24K\"]\n",
    "#loan['funded_amnt_inv_bin'] = np.searchsorted(bins, loan['funded_amnt_inv'].values)\n",
    "\n",
    "loan['funded_amnt_inv_bin'] = pd.cut(loan['funded_amnt_inv'], bins=bins, labels=labels)\n",
    "\n",
    "loan['funded_amnt_inv_bin'].value_counts()"
   ]
  },
  {
   "cell_type": "markdown",
   "id": "bf68d4c7",
   "metadata": {},
   "source": [
    "## Please ignore -- START -- Validation Queries used to do sanity check"
   ]
  },
  {
   "cell_type": "markdown",
   "id": "5b9489d6",
   "metadata": {},
   "source": [
    "#### Lending Club Funded (Investor hasn't funded)"
   ]
  },
  {
   "cell_type": "code",
   "execution_count": 182,
   "id": "26ff4ded",
   "metadata": {},
   "outputs": [
    {
     "data": {
      "text/html": [
       "<div>\n",
       "<style scoped>\n",
       "    .dataframe tbody tr th:only-of-type {\n",
       "        vertical-align: middle;\n",
       "    }\n",
       "\n",
       "    .dataframe tbody tr th {\n",
       "        vertical-align: top;\n",
       "    }\n",
       "\n",
       "    .dataframe thead th {\n",
       "        text-align: right;\n",
       "    }\n",
       "</style>\n",
       "<table border=\"1\" class=\"dataframe\">\n",
       "  <thead>\n",
       "    <tr style=\"text-align: right;\">\n",
       "      <th></th>\n",
       "      <th>loan_amnt</th>\n",
       "      <th>total_rec_prncp</th>\n",
       "      <th>total_rec_int</th>\n",
       "      <th>last_pymnt_amnt</th>\n",
       "      <th>total_pymnt</th>\n",
       "      <th>total_pymnt_inv</th>\n",
       "      <th>out_prncp</th>\n",
       "      <th>out_prncp_inv</th>\n",
       "      <th>total_rec_late_fee</th>\n",
       "      <th>recoveries</th>\n",
       "      <th>...</th>\n",
       "      <th>delinq_2yrs</th>\n",
       "      <th>open_acc</th>\n",
       "      <th>pub_rec</th>\n",
       "      <th>last_pymnt_d</th>\n",
       "      <th>last_credit_pull_d</th>\n",
       "      <th>pub_rec_bankruptcies</th>\n",
       "      <th>grade_int</th>\n",
       "      <th>sub_grade_int</th>\n",
       "      <th>IssuedYear</th>\n",
       "      <th>IssuedMonth</th>\n",
       "    </tr>\n",
       "  </thead>\n",
       "  <tbody>\n",
       "    <tr>\n",
       "      <th>38388</th>\n",
       "      <td>1775</td>\n",
       "      <td>1775.00</td>\n",
       "      <td>164.25</td>\n",
       "      <td>45.85</td>\n",
       "      <td>1939.253316</td>\n",
       "      <td>0.0</td>\n",
       "      <td>0.0</td>\n",
       "      <td>0.0</td>\n",
       "      <td>0.0</td>\n",
       "      <td>0.00</td>\n",
       "      <td>...</td>\n",
       "      <td>3</td>\n",
       "      <td>12</td>\n",
       "      <td>0</td>\n",
       "      <td>Mar-10</td>\n",
       "      <td>Jan-16</td>\n",
       "      <td>0.0</td>\n",
       "      <td>3</td>\n",
       "      <td>4</td>\n",
       "      <td>2008</td>\n",
       "      <td>10</td>\n",
       "    </tr>\n",
       "    <tr>\n",
       "      <th>38392</th>\n",
       "      <td>7500</td>\n",
       "      <td>7500.00</td>\n",
       "      <td>183.19</td>\n",
       "      <td>7199.14</td>\n",
       "      <td>7683.190000</td>\n",
       "      <td>0.0</td>\n",
       "      <td>0.0</td>\n",
       "      <td>0.0</td>\n",
       "      <td>0.0</td>\n",
       "      <td>0.00</td>\n",
       "      <td>...</td>\n",
       "      <td>1</td>\n",
       "      <td>17</td>\n",
       "      <td>0</td>\n",
       "      <td>Jan-09</td>\n",
       "      <td>Jan-09</td>\n",
       "      <td>0.0</td>\n",
       "      <td>2</td>\n",
       "      <td>2</td>\n",
       "      <td>2008</td>\n",
       "      <td>10</td>\n",
       "    </tr>\n",
       "    <tr>\n",
       "      <th>38393</th>\n",
       "      <td>4000</td>\n",
       "      <td>4000.00</td>\n",
       "      <td>331.13</td>\n",
       "      <td>2459.88</td>\n",
       "      <td>4331.131291</td>\n",
       "      <td>0.0</td>\n",
       "      <td>0.0</td>\n",
       "      <td>0.0</td>\n",
       "      <td>0.0</td>\n",
       "      <td>0.00</td>\n",
       "      <td>...</td>\n",
       "      <td>0</td>\n",
       "      <td>11</td>\n",
       "      <td>0</td>\n",
       "      <td>Feb-10</td>\n",
       "      <td>Feb-10</td>\n",
       "      <td>0.0</td>\n",
       "      <td>1</td>\n",
       "      <td>2</td>\n",
       "      <td>2008</td>\n",
       "      <td>10</td>\n",
       "    </tr>\n",
       "    <tr>\n",
       "      <th>38395</th>\n",
       "      <td>1000</td>\n",
       "      <td>219.38</td>\n",
       "      <td>76.45</td>\n",
       "      <td>32.88</td>\n",
       "      <td>331.040000</td>\n",
       "      <td>0.0</td>\n",
       "      <td>0.0</td>\n",
       "      <td>0.0</td>\n",
       "      <td>0.0</td>\n",
       "      <td>35.21</td>\n",
       "      <td>...</td>\n",
       "      <td>0</td>\n",
       "      <td>5</td>\n",
       "      <td>0</td>\n",
       "      <td>Jul-09</td>\n",
       "      <td>Dec-09</td>\n",
       "      <td>0.0</td>\n",
       "      <td>3</td>\n",
       "      <td>1</td>\n",
       "      <td>2008</td>\n",
       "      <td>9</td>\n",
       "    </tr>\n",
       "    <tr>\n",
       "      <th>38396</th>\n",
       "      <td>3200</td>\n",
       "      <td>2100.00</td>\n",
       "      <td>108.78</td>\n",
       "      <td>1684.87</td>\n",
       "      <td>2208.784526</td>\n",
       "      <td>0.0</td>\n",
       "      <td>0.0</td>\n",
       "      <td>0.0</td>\n",
       "      <td>0.0</td>\n",
       "      <td>0.00</td>\n",
       "      <td>...</td>\n",
       "      <td>0</td>\n",
       "      <td>13</td>\n",
       "      <td>0</td>\n",
       "      <td>Jul-09</td>\n",
       "      <td>Dec-15</td>\n",
       "      <td>0.0</td>\n",
       "      <td>1</td>\n",
       "      <td>2</td>\n",
       "      <td>2008</td>\n",
       "      <td>10</td>\n",
       "    </tr>\n",
       "  </tbody>\n",
       "</table>\n",
       "<p>5 rows × 29 columns</p>\n",
       "</div>"
      ],
      "text/plain": [
       "       loan_amnt  total_rec_prncp  total_rec_int  last_pymnt_amnt  \\\n",
       "38388       1775          1775.00         164.25            45.85   \n",
       "38392       7500          7500.00         183.19          7199.14   \n",
       "38393       4000          4000.00         331.13          2459.88   \n",
       "38395       1000           219.38          76.45            32.88   \n",
       "38396       3200          2100.00         108.78          1684.87   \n",
       "\n",
       "       total_pymnt  total_pymnt_inv  out_prncp  out_prncp_inv  \\\n",
       "38388  1939.253316              0.0        0.0            0.0   \n",
       "38392  7683.190000              0.0        0.0            0.0   \n",
       "38393  4331.131291              0.0        0.0            0.0   \n",
       "38395   331.040000              0.0        0.0            0.0   \n",
       "38396  2208.784526              0.0        0.0            0.0   \n",
       "\n",
       "       total_rec_late_fee  recoveries  ...  delinq_2yrs open_acc  pub_rec  \\\n",
       "38388                 0.0        0.00  ...            3       12        0   \n",
       "38392                 0.0        0.00  ...            1       17        0   \n",
       "38393                 0.0        0.00  ...            0       11        0   \n",
       "38395                 0.0       35.21  ...            0        5        0   \n",
       "38396                 0.0        0.00  ...            0       13        0   \n",
       "\n",
       "       last_pymnt_d  last_credit_pull_d  pub_rec_bankruptcies  grade_int  \\\n",
       "38388        Mar-10              Jan-16                   0.0          3   \n",
       "38392        Jan-09              Jan-09                   0.0          2   \n",
       "38393        Feb-10              Feb-10                   0.0          1   \n",
       "38395        Jul-09              Dec-09                   0.0          3   \n",
       "38396        Jul-09              Dec-15                   0.0          1   \n",
       "\n",
       "      sub_grade_int  IssuedYear  IssuedMonth  \n",
       "38388             4        2008           10  \n",
       "38392             2        2008           10  \n",
       "38393             2        2008           10  \n",
       "38395             1        2008            9  \n",
       "38396             2        2008           10  \n",
       "\n",
       "[5 rows x 29 columns]"
      ]
     },
     "execution_count": 182,
     "metadata": {},
     "output_type": "execute_result"
    }
   ],
   "source": [
    "loan[loan['funded_amnt_inv_bin']==\"Not Funded\"].filter(['loan_amnt','total_rec_prncp', 'total_rec_int', 'last_pymnt_amnt','total_pymnt','total_pymnt_inv',  'out_prncp', 'out_prncp_inv',  'total_rec_late_fee', 'recoveries', 'collection_recovery_fee','issue_d','revol_bal', 'revol_util', 'total_acc', 'IssuedYear','IssuedMonth','last_pymnt_d','dti', 'delinq_2yrs', 'open_acc', 'pub_rec', 'last_pymnt_d', 'last_credit_pull_d', 'pub_rec_bankruptcies', 'grade_int', 'sub_grade_int', 'IssuedYear', 'IssuedMonth']).head()"
   ]
  },
  {
   "cell_type": "code",
   "execution_count": 41,
   "id": "691ddc2c",
   "metadata": {},
   "outputs": [],
   "source": [
    "#print(loan.info())\n",
    "#print(loan.describe())\n",
    "#print(loan.revol_util.isna().sum())\n",
    "#print(loan.shape)\n",
    "#print(loan[loan.loan_status=='Current'].head())\n",
    "#print(loan.head())\n",
    "#print(loan.loan_status.unique())\n",
    "#print(loan.grade.isna().sum())\n",
    "# Fetch 2 sample rows to see the value of all columns\n",
    "\n",
    "#for index, row in loan.iterrows():\n",
    "#    print (row)\n",
    "#    if index == 1:\n",
    "#        break"
   ]
  },
  {
   "cell_type": "code",
   "execution_count": 42,
   "id": "3bd37e67",
   "metadata": {},
   "outputs": [],
   "source": [
    "#loan.loc[(loan.loan_status=='Charged Off') & (loan.recoveries==0)].head()"
   ]
  },
  {
   "cell_type": "code",
   "execution_count": 43,
   "id": "14c8d1ba",
   "metadata": {},
   "outputs": [],
   "source": [
    "#loan_paid = loan[loan.loan_status=='Fully Paid']"
   ]
  },
  {
   "cell_type": "code",
   "execution_count": 44,
   "id": "a3bc0ffb",
   "metadata": {},
   "outputs": [],
   "source": [
    "#loan_def = loan[loan.loan_status=='Charged Off']"
   ]
  },
  {
   "cell_type": "markdown",
   "id": "7c7d43cb",
   "metadata": {},
   "source": [
    "### Analysing Distribution of data across columns and Correlation between 2 Continuous Variables"
   ]
  },
  {
   "cell_type": "code",
   "execution_count": 45,
   "id": "52da6bba",
   "metadata": {},
   "outputs": [],
   "source": [
    "#fig,ax = plt.subplots(figsize = (10,7))\n",
    "#sns.countplot(loan.emp_length)"
   ]
  },
  {
   "cell_type": "markdown",
   "id": "6c6333f2",
   "metadata": {},
   "source": [
    "#### There is no correlation between Borrower's Employment Length and Grade/SubGrade (Bank Rating)"
   ]
  },
  {
   "cell_type": "code",
   "execution_count": 46,
   "id": "d003e02e",
   "metadata": {},
   "outputs": [
    {
     "name": "stdout",
     "output_type": "stream",
     "text": [
      "-0.009659424947207684\n",
      "-0.016887063002591185\n"
     ]
    }
   ],
   "source": [
    "corr = loan.emp_length.corr(loan.grade_int)\n",
    "print(corr)\n",
    "corr = loan.emp_length.corr(loan.sub_grade_int)\n",
    "print(corr)"
   ]
  },
  {
   "cell_type": "code",
   "execution_count": 47,
   "id": "7cba3959",
   "metadata": {},
   "outputs": [],
   "source": [
    "#plt.boxplot( loan.dti )\n",
    "#plt.show()\n",
    "#plt.boxplot( loan.loan_amnt )\n",
    "#plt.show()\n",
    "#plt.boxplot( loan.funded_amnt_inv )\n",
    "#plt.show()\n",
    "#plt.boxplot( loan.annual_inc )\n",
    "#plt.show()\n",
    "#plt.boxplot( loan.installment )\n",
    "#plt.show()"
   ]
  },
  {
   "cell_type": "code",
   "execution_count": 48,
   "id": "d9109175",
   "metadata": {},
   "outputs": [
    {
     "data": {
      "text/plain": [
       "0.75    15000.0\n",
       "0.80    16000.0\n",
       "0.90    21600.0\n",
       "0.95    25000.0\n",
       "1.00    35000.0\n",
       "Name: loan_amnt, dtype: float64"
      ]
     },
     "execution_count": 48,
     "metadata": {},
     "output_type": "execute_result"
    }
   ],
   "source": [
    "loan.loan_amnt.quantile([0.75,0.8, 0.9, 0.95,1])"
   ]
  },
  {
   "cell_type": "markdown",
   "id": "9426ed62",
   "metadata": {},
   "source": [
    "### There are couple of borrower's Annual Income values that are very high but it doesn't skew the mean or median. Hence those values are not considered as outliers"
   ]
  },
  {
   "cell_type": "code",
   "execution_count": 49,
   "id": "c1b2f9ed",
   "metadata": {},
   "outputs": [
    {
     "data": {
      "text/plain": [
       "0.70      75000.0\n",
       "0.80      90000.0\n",
       "0.90     115000.0\n",
       "0.99     234000.0\n",
       "1.00    6000000.0\n",
       "Name: annual_inc, dtype: float64"
      ]
     },
     "execution_count": 49,
     "metadata": {},
     "output_type": "execute_result"
    }
   ],
   "source": [
    "loan.annual_inc.quantile([0.70, 0.80, 0.90, 0.99, 1])"
   ]
  },
  {
   "cell_type": "code",
   "execution_count": 50,
   "id": "60c05a65",
   "metadata": {},
   "outputs": [
    {
     "data": {
      "text/plain": [
       "68809.2220780232"
      ]
     },
     "execution_count": 50,
     "metadata": {},
     "output_type": "execute_result"
    }
   ],
   "source": [
    "loan.annual_inc.mean()"
   ]
  },
  {
   "cell_type": "code",
   "execution_count": 51,
   "id": "199a01b8",
   "metadata": {},
   "outputs": [
    {
     "data": {
      "text/plain": [
       "68555.81827384816"
      ]
     },
     "execution_count": 51,
     "metadata": {},
     "output_type": "execute_result"
    }
   ],
   "source": [
    "loan[loan['annual_inc'] < 3850000].annual_inc.mean()"
   ]
  },
  {
   "cell_type": "code",
   "execution_count": 52,
   "id": "5cfeb623",
   "metadata": {},
   "outputs": [
    {
     "data": {
      "text/plain": [
       "(2,)"
      ]
     },
     "execution_count": 52,
     "metadata": {},
     "output_type": "execute_result"
    }
   ],
   "source": [
    "loan[loan['annual_inc'] > 3850000].annual_inc.shape"
   ]
  },
  {
   "cell_type": "code",
   "execution_count": 53,
   "id": "bc9a767d",
   "metadata": {},
   "outputs": [
    {
     "data": {
      "text/plain": [
       "{'whiskers': [<matplotlib.lines.Line2D at 0x1b555403820>,\n",
       "  <matplotlib.lines.Line2D at 0x1b555416070>],\n",
       " 'caps': [<matplotlib.lines.Line2D at 0x1b555416340>,\n",
       "  <matplotlib.lines.Line2D at 0x1b555416610>],\n",
       " 'boxes': [<matplotlib.lines.Line2D at 0x1b5553f0bb0>],\n",
       " 'medians': [<matplotlib.lines.Line2D at 0x1b5554168e0>],\n",
       " 'fliers': [<matplotlib.lines.Line2D at 0x1b555416bb0>],\n",
       " 'means': []}"
      ]
     },
     "execution_count": 53,
     "metadata": {},
     "output_type": "execute_result"
    },
    {
     "data": {
      "image/png": "[encoded data removed]",
      "text/plain": [
       "<Figure size 1080x504 with 2 Axes>"
      ]
     },
     "metadata": {
      "needs_background": "light"
     },
     "output_type": "display_data"
    }
   ],
   "source": [
    "plt.figure(figsize=(15,7))\n",
    "plt.subplot(1,2,1)\n",
    "plt.boxplot(loan.annual_inc)\n",
    "plt.subplot(1,2,2)\n",
    "plt.boxplot(loan[loan['annual_inc'] < 3850000].annual_inc)"
   ]
  },
  {
   "cell_type": "code",
   "execution_count": 263,
   "id": "d4e950b3",
   "metadata": {},
   "outputs": [],
   "source": [
    "#for i, row in loan[loan['funded_amnt_inv']==0].iterrows():\n",
    "#    print (row)\n",
    "#    print()\n",
    "#    print (i)\n",
    "#    if i == 1:\n",
    "#        break"
   ]
  },
  {
   "cell_type": "code",
   "execution_count": 55,
   "id": "62111237",
   "metadata": {},
   "outputs": [
    {
     "name": "stdout",
     "output_type": "stream",
     "text": [
      "\n"
     ]
    }
   ],
   "source": [
    "#loan['annual_inc_groups'] = pd.qcut(loan['annual_inc'], q=40)\n",
    "#print(loan.annual_inc_groups.value_counts())\n",
    "\n",
    "print()\n",
    "#bins = bins=np.linspace(0, loan.annual_inc.max(), 10) #[0, 10000, 25000, 100000, 250000, 500000, 7000000]\n",
    "#loan['annual_inc_groups'] = pd.cut(loan['annual_inc'], bins=bins)\n",
    "#print(loan.annual_inc_groups.value_counts())\n"
   ]
  },
  {
   "cell_type": "code",
   "execution_count": 56,
   "id": "575ee3a1",
   "metadata": {},
   "outputs": [
    {
     "data": {
      "text/plain": [
       "0.75     425.860\n",
       "0.80     481.204\n",
       "0.90     621.222\n",
       "0.95     760.820\n",
       "1.00    1305.190\n",
       "Name: installment, dtype: float64"
      ]
     },
     "execution_count": 56,
     "metadata": {},
     "output_type": "execute_result"
    }
   ],
   "source": [
    "loan.installment.quantile([0.75,0.8, 0.9, 0.95,1])"
   ]
  },
  {
   "cell_type": "code",
   "execution_count": 57,
   "id": "4291b3f5",
   "metadata": {},
   "outputs": [
    {
     "data": {
      "text/plain": [
       "Fully Paid     32916\n",
       "Charged Off     5611\n",
       "Name: loan_status, dtype: int64"
      ]
     },
     "execution_count": 57,
     "metadata": {},
     "output_type": "execute_result"
    }
   ],
   "source": [
    "loan.loan_status.value_counts()"
   ]
  },
  {
   "cell_type": "code",
   "execution_count": 58,
   "id": "b302fee2",
   "metadata": {},
   "outputs": [],
   "source": [
    "#sns.countplot(loan.loan_status)"
   ]
  },
  {
   "cell_type": "markdown",
   "id": "cd9a4c98",
   "metadata": {},
   "source": [
    "### “Fully Paid” Category has borrowers in grade A & B predominantly Whereas “Charged Off” Category borrowers shift towards grade B & C"
   ]
  },
  {
   "cell_type": "code",
   "execution_count": 59,
   "id": "b398fcca",
   "metadata": {
    "scrolled": true
   },
   "outputs": [
    {
     "data": {
      "text/plain": [
       "<AxesSubplot:xlabel='grade', ylabel='count'>"
      ]
     },
     "execution_count": 59,
     "metadata": {},
     "output_type": "execute_result"
    },
    {
     "data": {
      "image/png": "[encoded data removed]",
      "text/plain": [
       "<Figure size 864x504 with 2 Axes>"
      ]
     },
     "metadata": {
      "needs_background": "light"
     },
     "output_type": "display_data"
    }
   ],
   "source": [
    "fig,ax = plt.subplots(figsize = (12,7))\n",
    "plt.subplot(221)\n",
    "sns.countplot(x='grade', order=(['A','B','C','D','E','F','G']),data=loan[loan['loan_status']=='Fully Paid'], hue='sub_grade_int')\n",
    "plt.subplot(222)\n",
    "sns.countplot(x='grade', order=(['A','B','C','D','E','F','G']), data=loan[loan.loan_status=='Charged Off'], hue='sub_grade_int')"
   ]
  },
  {
   "cell_type": "code",
   "execution_count": 60,
   "id": "15693ee6",
   "metadata": {},
   "outputs": [],
   "source": [
    "#fig,ax = plt.subplots(figsize = (12,7))\n",
    "#sns.countplot(x='grade', order=(['A','B','C','D','E','F','G']), data=loan[loan.loan_status=='Charged Off'], hue='sub_grade_int')"
   ]
  },
  {
   "cell_type": "markdown",
   "id": "757cbef4",
   "metadata": {},
   "source": [
    "### Home Ownership doesn't signify the risk of loan default"
   ]
  },
  {
   "cell_type": "code",
   "execution_count": 61,
   "id": "8d427a06",
   "metadata": {},
   "outputs": [
    {
     "data": {
      "text/plain": [
       "<AxesSubplot:xlabel='home_ownership', ylabel='count'>"
      ]
     },
     "execution_count": 61,
     "metadata": {},
     "output_type": "execute_result"
    },
    {
     "data": {
      "image/png": "[encoded data removed]",
      "text/plain": [
       "<Figure size 864x504 with 2 Axes>"
      ]
     },
     "metadata": {
      "needs_background": "light"
     },
     "output_type": "display_data"
    }
   ],
   "source": [
    "fig,ax = plt.subplots(figsize = (12,7))\n",
    "plt.subplot(221)\n",
    "sns.countplot(x='home_ownership', data=loan[loan.loan_status=='Charged Off'])\n",
    "plt.subplot(222)\n",
    "sns.countplot(x='home_ownership', data=loan[loan.loan_status=='Fully Paid'])"
   ]
  },
  {
   "cell_type": "code",
   "execution_count": 62,
   "id": "98933469",
   "metadata": {},
   "outputs": [
    {
     "data": {
      "text/plain": [
       "RENT        18448\n",
       "MORTGAGE    17010\n",
       "OWN          2970\n",
       "OTHER          99\n",
       "Name: home_ownership, dtype: int64"
      ]
     },
     "execution_count": 62,
     "metadata": {},
     "output_type": "execute_result"
    }
   ],
   "source": [
    "loan.home_ownership.value_counts()"
   ]
  },
  {
   "cell_type": "code",
   "execution_count": 63,
   "id": "0d37538d",
   "metadata": {},
   "outputs": [],
   "source": [
    "#sns.countplot(x='home_ownership', data=loan[loan.loan_status=='Fully Paid'])"
   ]
  },
  {
   "cell_type": "markdown",
   "id": "927bc664",
   "metadata": {},
   "source": [
    "#### Try BINning on annual income columns"
   ]
  },
  {
   "cell_type": "code",
   "execution_count": 64,
   "id": "6e7752c8",
   "metadata": {},
   "outputs": [],
   "source": [
    "#loan.annual_inc.unique()"
   ]
  },
  {
   "cell_type": "code",
   "execution_count": 65,
   "id": "08a9c26b",
   "metadata": {},
   "outputs": [],
   "source": [
    "#loan.annual_inc = loan.annual_inc.astype(int)\n",
    "#loan.annual_inc.describe()"
   ]
  },
  {
   "cell_type": "code",
   "execution_count": 66,
   "id": "73c1fd38",
   "metadata": {},
   "outputs": [],
   "source": [
    "#loan.annual_inc.quantile([0.2,0.4, 0.6, 0.8, 1])"
   ]
  },
  {
   "cell_type": "code",
   "execution_count": 67,
   "id": "3b87b7ab",
   "metadata": {},
   "outputs": [],
   "source": [
    "#loan.annual_inc.max()"
   ]
  },
  {
   "cell_type": "code",
   "execution_count": 68,
   "id": "10f8d8f4",
   "metadata": {},
   "outputs": [],
   "source": [
    "#loan.annual_inc_groups.describe()"
   ]
  },
  {
   "cell_type": "code",
   "execution_count": 69,
   "id": "dd6bcf63",
   "metadata": {},
   "outputs": [],
   "source": [
    "#loan.annual_inc_groups.value_counts()"
   ]
  },
  {
   "cell_type": "code",
   "execution_count": 70,
   "id": "93e59a09",
   "metadata": {},
   "outputs": [],
   "source": [
    "#bins = bins=np.linspace(0, 6500000, 10) #[0, 10000, 25000, 100000, 250000, 500000, 7000000]\n",
    "#loan['annual_inc_groups'] = pd.cut(loan['annual_inc'], bins=bins)"
   ]
  },
  {
   "cell_type": "code",
   "execution_count": 71,
   "id": "b1a4ed68",
   "metadata": {},
   "outputs": [],
   "source": [
    "#bins = [0, 10000, 25000, 100000, 250000, 500000, 6000000]\n",
    "#loan['annual_inc_groups'] = pd.cut(loan['annual_inc'], bins)\n",
    "#loan.annual_inc_groups.unique()"
   ]
  },
  {
   "cell_type": "code",
   "execution_count": 72,
   "id": "1682e3a6",
   "metadata": {},
   "outputs": [],
   "source": [
    "#loan['annual_inc_groups'].value_counts()"
   ]
  },
  {
   "cell_type": "code",
   "execution_count": 73,
   "id": "42277b24",
   "metadata": {},
   "outputs": [],
   "source": [
    "#loan['annual_inc_groups'] = pd.cut(loan['annual_inc'], bins=10)"
   ]
  },
  {
   "cell_type": "code",
   "execution_count": 74,
   "id": "f691e7f3",
   "metadata": {},
   "outputs": [],
   "source": [
    "#ax = loan.groupby(['annual_inc_groups']).sum().plot(kind='pie', y='annual_inc',radius=.75, figsize=(7,7),textprops={'fontsize': 12})\n",
    "#ax.legend(bbox_to_anchor=(1.2, 1), loc='upper left')"
   ]
  },
  {
   "cell_type": "code",
   "execution_count": 75,
   "id": "5b325151",
   "metadata": {},
   "outputs": [],
   "source": [
    "#fig,ax = plt.subplots(figsize = (12,7))\n",
    "\n",
    "#sns.countplot(x='annual_inc_groups', data=loan[loan.loan_status=='Charged Off'])"
   ]
  },
  {
   "cell_type": "code",
   "execution_count": 76,
   "id": "bb555437",
   "metadata": {},
   "outputs": [],
   "source": [
    "#fig,ax = plt.subplots(figsize = (12,7))\n",
    "\n",
    "#sns.countplot(x='annual_inc_groups', data=loan[loan.loan_status=='Fully Paid'])"
   ]
  },
  {
   "cell_type": "code",
   "execution_count": 77,
   "id": "6aff72dd",
   "metadata": {},
   "outputs": [],
   "source": [
    "#fig,ax = plt.subplots(figsize = (12,7))\n",
    "\n",
    "#sns.countplot(x='annual_inc_groups', data=loan[loan.loan_status=='Charged Off'])"
   ]
  },
  {
   "cell_type": "markdown",
   "id": "06c0aeef",
   "metadata": {},
   "source": [
    "#### Use Log when one category skews the graph"
   ]
  },
  {
   "cell_type": "code",
   "execution_count": 78,
   "id": "41ee2729",
   "metadata": {},
   "outputs": [
    {
     "data": {
      "text/plain": [
       "314459875"
      ]
     },
     "execution_count": 78,
     "metadata": {},
     "output_type": "execute_result"
    }
   ],
   "source": [
    "loan[loan['purpose'].isin(['other','debt_consolidation','credit_card'])].loan_amnt.sum()"
   ]
  },
  {
   "cell_type": "code",
   "execution_count": 79,
   "id": "cdec0d3d",
   "metadata": {},
   "outputs": [
    {
     "data": {
      "text/plain": [
       "111466325"
      ]
     },
     "execution_count": 79,
     "metadata": {},
     "output_type": "execute_result"
    }
   ],
   "source": [
    "loan[~loan['purpose'].isin(['other','debt_consolidation','credit_card'])].loan_amnt.sum()"
   ]
  },
  {
   "cell_type": "code",
   "execution_count": 80,
   "id": "127b1af8",
   "metadata": {},
   "outputs": [
    {
     "data": {
      "text/plain": [
       "<AxesSubplot:xlabel='count', ylabel='purpose'>"
      ]
     },
     "execution_count": 80,
     "metadata": {},
     "output_type": "execute_result"
    },
    {
     "data": {
      "image/png": "[encoded data removed]",
      "text/plain": [
       "<Figure size 864x432 with 1 Axes>"
      ]
     },
     "metadata": {
      "needs_background": "light"
     },
     "output_type": "display_data"
    }
   ],
   "source": [
    "fig,ax = plt.subplots(figsize = (12,6))\n",
    "#ax.set(xscale = 'log')\n",
    "sns.countplot(y='purpose', data=loan) #, hue='loan_status'"
   ]
  },
  {
   "cell_type": "code",
   "execution_count": 81,
   "id": "9869c24d",
   "metadata": {},
   "outputs": [],
   "source": [
    "#fig,ax = plt.subplots(figsize = (12,8))\n",
    "\n",
    "#ax.set(xscale = 'log')\n",
    "#sns.countplot(y='purpose', data=loan[loan.loan_status=='Fully Paid'])"
   ]
  },
  {
   "cell_type": "code",
   "execution_count": 192,
   "id": "f383a6b2",
   "metadata": {},
   "outputs": [
    {
     "data": {
      "image/png": "[encoded data removed]",
      "text/plain": [
       "<Figure size 360x360 with 1 Axes>"
      ]
     },
     "metadata": {},
     "output_type": "display_data"
    }
   ],
   "source": [
    "plt.figure(figsize=(5,3))\n",
    "\n",
    "ax = loan['purpose'].value_counts().plot(kind='pie',radius=.99, textprops={'fontsize': 14} ,autopct='%1.1f%%', figsize=(5,5))\n",
    "ax.legend(bbox_to_anchor=(1.7, 1), loc='upper left')\n",
    "plt.title(\"Purpose\",fontsize=44)\n",
    "plt.show()\n"
   ]
  },
  {
   "cell_type": "code",
   "execution_count": 83,
   "id": "12280163",
   "metadata": {},
   "outputs": [],
   "source": [
    "#fig,ax = plt.subplots(figsize = (12,8))\n",
    "\n",
    "#ax.set(xscale = 'log')\n",
    "#sns.countplot(y='dti', data=loan[loan.loan_status=='Fully Paid'])"
   ]
  },
  {
   "cell_type": "code",
   "execution_count": 84,
   "id": "1bba9f05",
   "metadata": {},
   "outputs": [],
   "source": [
    "#loan.dti.describe()"
   ]
  },
  {
   "cell_type": "code",
   "execution_count": 85,
   "id": "d0e26689",
   "metadata": {},
   "outputs": [],
   "source": [
    "#loan['dti_groups'] = pd.cut(loan['dti'], bins=5, precision=0, labels=['0-6','6-12','12-18','18-24','24-30'])"
   ]
  },
  {
   "cell_type": "code",
   "execution_count": 86,
   "id": "ebec2a08",
   "metadata": {},
   "outputs": [],
   "source": [
    "\n",
    "#plt.figure(figsize=(15,15))\n",
    "#plt.subplot(221)\n",
    "#fig,ax = plt.subplots(figsize = (12,8))\n",
    "#ax.set(xscale = 'log')\n",
    "#sns.countplot(x='dti_groups', data=loan[loan.loan_status=='Fully Paid'])\n",
    "\n",
    "\n",
    "#plt.figure(figsize=(12,12))\n",
    "#plt.subplot(222)\n",
    "#ax.set(xscale = 'log')\n",
    "#sns.countplot(x='dti_groups', data=loan[loan.loan_status=='Charged Off'])"
   ]
  },
  {
   "cell_type": "markdown",
   "id": "d50101fd",
   "metadata": {},
   "source": [
    "### Univariates so far are not providing insights to decide the default factors"
   ]
  },
  {
   "cell_type": "code",
   "execution_count": 87,
   "id": "bfac2cd4",
   "metadata": {},
   "outputs": [
    {
     "data": {
      "text/plain": [
       "91223.31433095803"
      ]
     },
     "execution_count": 87,
     "metadata": {},
     "output_type": "execute_result"
    }
   ],
   "source": [
    "loan[(loan['purpose']=='home_improvement') & (loan['loan_status']=='Fully Paid')].annual_inc.mean()"
   ]
  },
  {
   "cell_type": "code",
   "execution_count": 88,
   "id": "54e455fc",
   "metadata": {},
   "outputs": [
    {
     "data": {
      "text/plain": [
       "count       344.000000\n",
       "mean      77540.250000\n",
       "std       69525.731979\n",
       "min       12000.000000\n",
       "25%       44375.000000\n",
       "50%       60300.000000\n",
       "75%       87500.000000\n",
       "max      700000.000000\n",
       "Name: annual_inc, dtype: float64"
      ]
     },
     "execution_count": 88,
     "metadata": {},
     "output_type": "execute_result"
    }
   ],
   "source": [
    "loan[(loan['purpose']=='home_improvement') & (loan['loan_status']=='Charged Off')].annual_inc.describe()"
   ]
  },
  {
   "cell_type": "code",
   "execution_count": 89,
   "id": "d31c7701",
   "metadata": {},
   "outputs": [
    {
     "data": {
      "text/html": [
       "<div>\n",
       "<style scoped>\n",
       "    .dataframe tbody tr th:only-of-type {\n",
       "        vertical-align: middle;\n",
       "    }\n",
       "\n",
       "    .dataframe tbody tr th {\n",
       "        vertical-align: top;\n",
       "    }\n",
       "\n",
       "    .dataframe thead th {\n",
       "        text-align: right;\n",
       "    }\n",
       "</style>\n",
       "<table border=\"1\" class=\"dataframe\">\n",
       "  <thead>\n",
       "    <tr style=\"text-align: right;\">\n",
       "      <th></th>\n",
       "      <th>loan_amnt</th>\n",
       "      <th>funded_amnt_inv</th>\n",
       "      <th>term</th>\n",
       "      <th>int_rate</th>\n",
       "      <th>installment</th>\n",
       "      <th>emp_length</th>\n",
       "      <th>annual_inc</th>\n",
       "      <th>dti</th>\n",
       "      <th>delinq_2yrs</th>\n",
       "      <th>inq_last_6mths</th>\n",
       "      <th>...</th>\n",
       "      <th>total_rec_int</th>\n",
       "      <th>total_rec_late_fee</th>\n",
       "      <th>recoveries</th>\n",
       "      <th>collection_recovery_fee</th>\n",
       "      <th>last_pymnt_amnt</th>\n",
       "      <th>pub_rec_bankruptcies</th>\n",
       "      <th>grade_int</th>\n",
       "      <th>sub_grade_int</th>\n",
       "      <th>IssuedYear</th>\n",
       "      <th>IssuedMonth</th>\n",
       "    </tr>\n",
       "  </thead>\n",
       "  <tbody>\n",
       "    <tr>\n",
       "      <th>count</th>\n",
       "      <td>8141.000000</td>\n",
       "      <td>8141.000000</td>\n",
       "      <td>8141.000000</td>\n",
       "      <td>8141.000000</td>\n",
       "      <td>8141.000000</td>\n",
       "      <td>8141.000000</td>\n",
       "      <td>8.141000e+03</td>\n",
       "      <td>8141.000000</td>\n",
       "      <td>8141.000000</td>\n",
       "      <td>8141.000000</td>\n",
       "      <td>...</td>\n",
       "      <td>8141.000000</td>\n",
       "      <td>8141.000000</td>\n",
       "      <td>8141.000000</td>\n",
       "      <td>8141.000000</td>\n",
       "      <td>8141.000000</td>\n",
       "      <td>8045.000000</td>\n",
       "      <td>8141.000000</td>\n",
       "      <td>8141.000000</td>\n",
       "      <td>8141.000000</td>\n",
       "      <td>8141.000000</td>\n",
       "    </tr>\n",
       "    <tr>\n",
       "      <th>mean</th>\n",
       "      <td>15716.785407</td>\n",
       "      <td>14605.124063</td>\n",
       "      <td>43.523400</td>\n",
       "      <td>12.761162</td>\n",
       "      <td>453.682715</td>\n",
       "      <td>5.664538</td>\n",
       "      <td>9.764122e+04</td>\n",
       "      <td>13.723021</td>\n",
       "      <td>0.149122</td>\n",
       "      <td>0.866601</td>\n",
       "      <td>...</td>\n",
       "      <td>3289.437015</td>\n",
       "      <td>1.482816</td>\n",
       "      <td>152.268331</td>\n",
       "      <td>17.033946</td>\n",
       "      <td>4293.158770</td>\n",
       "      <td>0.042759</td>\n",
       "      <td>2.851370</td>\n",
       "      <td>3.087459</td>\n",
       "      <td>2010.414445</td>\n",
       "      <td>7.265692</td>\n",
       "    </tr>\n",
       "    <tr>\n",
       "      <th>std</th>\n",
       "      <td>8002.866070</td>\n",
       "      <td>7852.047964</td>\n",
       "      <td>11.134419</td>\n",
       "      <td>3.913329</td>\n",
       "      <td>229.141575</td>\n",
       "      <td>3.594817</td>\n",
       "      <td>6.360821e+04</td>\n",
       "      <td>6.108537</td>\n",
       "      <td>0.469587</td>\n",
       "      <td>1.054598</td>\n",
       "      <td>...</td>\n",
       "      <td>3165.539793</td>\n",
       "      <td>8.407456</td>\n",
       "      <td>1002.057442</td>\n",
       "      <td>160.116662</td>\n",
       "      <td>5873.358038</td>\n",
       "      <td>0.203552</td>\n",
       "      <td>1.502012</td>\n",
       "      <td>1.408370</td>\n",
       "      <td>0.807494</td>\n",
       "      <td>3.417729</td>\n",
       "    </tr>\n",
       "    <tr>\n",
       "      <th>min</th>\n",
       "      <td>1000.000000</td>\n",
       "      <td>0.000000</td>\n",
       "      <td>36.000000</td>\n",
       "      <td>5.420000</td>\n",
       "      <td>25.280000</td>\n",
       "      <td>0.000000</td>\n",
       "      <td>6.000800e+04</td>\n",
       "      <td>0.000000</td>\n",
       "      <td>0.000000</td>\n",
       "      <td>0.000000</td>\n",
       "      <td>...</td>\n",
       "      <td>0.000000</td>\n",
       "      <td>0.000000</td>\n",
       "      <td>0.000000</td>\n",
       "      <td>0.000000</td>\n",
       "      <td>0.000000</td>\n",
       "      <td>0.000000</td>\n",
       "      <td>1.000000</td>\n",
       "      <td>1.000000</td>\n",
       "      <td>2007.000000</td>\n",
       "      <td>1.000000</td>\n",
       "    </tr>\n",
       "    <tr>\n",
       "      <th>25%</th>\n",
       "      <td>10000.000000</td>\n",
       "      <td>8800.000000</td>\n",
       "      <td>36.000000</td>\n",
       "      <td>10.000000</td>\n",
       "      <td>283.200000</td>\n",
       "      <td>3.000000</td>\n",
       "      <td>7.000000e+04</td>\n",
       "      <td>9.150000</td>\n",
       "      <td>0.000000</td>\n",
       "      <td>0.000000</td>\n",
       "      <td>...</td>\n",
       "      <td>1148.140000</td>\n",
       "      <td>0.000000</td>\n",
       "      <td>0.000000</td>\n",
       "      <td>0.000000</td>\n",
       "      <td>377.330000</td>\n",
       "      <td>0.000000</td>\n",
       "      <td>2.000000</td>\n",
       "      <td>2.000000</td>\n",
       "      <td>2010.000000</td>\n",
       "      <td>5.000000</td>\n",
       "    </tr>\n",
       "    <tr>\n",
       "      <th>50%</th>\n",
       "      <td>15000.000000</td>\n",
       "      <td>13600.000000</td>\n",
       "      <td>36.000000</td>\n",
       "      <td>12.680000</td>\n",
       "      <td>407.780000</td>\n",
       "      <td>5.000000</td>\n",
       "      <td>8.340000e+04</td>\n",
       "      <td>13.730000</td>\n",
       "      <td>0.000000</td>\n",
       "      <td>1.000000</td>\n",
       "      <td>...</td>\n",
       "      <td>2268.470000</td>\n",
       "      <td>0.000000</td>\n",
       "      <td>0.000000</td>\n",
       "      <td>0.000000</td>\n",
       "      <td>1096.510000</td>\n",
       "      <td>0.000000</td>\n",
       "      <td>3.000000</td>\n",
       "      <td>3.000000</td>\n",
       "      <td>2011.000000</td>\n",
       "      <td>8.000000</td>\n",
       "    </tr>\n",
       "    <tr>\n",
       "      <th>75%</th>\n",
       "      <td>20000.000000</td>\n",
       "      <td>19900.000000</td>\n",
       "      <td>60.000000</td>\n",
       "      <td>15.580000</td>\n",
       "      <td>597.780000</td>\n",
       "      <td>10.000000</td>\n",
       "      <td>1.050000e+05</td>\n",
       "      <td>18.360000</td>\n",
       "      <td>0.000000</td>\n",
       "      <td>1.000000</td>\n",
       "      <td>...</td>\n",
       "      <td>4350.650000</td>\n",
       "      <td>0.000000</td>\n",
       "      <td>0.000000</td>\n",
       "      <td>0.000000</td>\n",
       "      <td>6417.790000</td>\n",
       "      <td>0.000000</td>\n",
       "      <td>4.000000</td>\n",
       "      <td>4.000000</td>\n",
       "      <td>2011.000000</td>\n",
       "      <td>10.000000</td>\n",
       "    </tr>\n",
       "    <tr>\n",
       "      <th>max</th>\n",
       "      <td>35000.000000</td>\n",
       "      <td>35000.000000</td>\n",
       "      <td>60.000000</td>\n",
       "      <td>24.110000</td>\n",
       "      <td>1305.190000</td>\n",
       "      <td>10.000000</td>\n",
       "      <td>2.039784e+06</td>\n",
       "      <td>29.920000</td>\n",
       "      <td>6.000000</td>\n",
       "      <td>8.000000</td>\n",
       "      <td>...</td>\n",
       "      <td>23563.680000</td>\n",
       "      <td>180.200000</td>\n",
       "      <td>29623.350000</td>\n",
       "      <td>5602.720000</td>\n",
       "      <td>35479.890000</td>\n",
       "      <td>2.000000</td>\n",
       "      <td>7.000000</td>\n",
       "      <td>5.000000</td>\n",
       "      <td>2011.000000</td>\n",
       "      <td>12.000000</td>\n",
       "    </tr>\n",
       "  </tbody>\n",
       "</table>\n",
       "<p>8 rows × 31 columns</p>\n",
       "</div>"
      ],
      "text/plain": [
       "          loan_amnt  funded_amnt_inv         term     int_rate  installment  \\\n",
       "count   8141.000000      8141.000000  8141.000000  8141.000000  8141.000000   \n",
       "mean   15716.785407     14605.124063    43.523400    12.761162   453.682715   \n",
       "std     8002.866070      7852.047964    11.134419     3.913329   229.141575   \n",
       "min     1000.000000         0.000000    36.000000     5.420000    25.280000   \n",
       "25%    10000.000000      8800.000000    36.000000    10.000000   283.200000   \n",
       "50%    15000.000000     13600.000000    36.000000    12.680000   407.780000   \n",
       "75%    20000.000000     19900.000000    60.000000    15.580000   597.780000   \n",
       "max    35000.000000     35000.000000    60.000000    24.110000  1305.190000   \n",
       "\n",
       "        emp_length    annual_inc          dti  delinq_2yrs  inq_last_6mths  \\\n",
       "count  8141.000000  8.141000e+03  8141.000000  8141.000000     8141.000000   \n",
       "mean      5.664538  9.764122e+04    13.723021     0.149122        0.866601   \n",
       "std       3.594817  6.360821e+04     6.108537     0.469587        1.054598   \n",
       "min       0.000000  6.000800e+04     0.000000     0.000000        0.000000   \n",
       "25%       3.000000  7.000000e+04     9.150000     0.000000        0.000000   \n",
       "50%       5.000000  8.340000e+04    13.730000     0.000000        1.000000   \n",
       "75%      10.000000  1.050000e+05    18.360000     0.000000        1.000000   \n",
       "max      10.000000  2.039784e+06    29.920000     6.000000        8.000000   \n",
       "\n",
       "       ...  total_rec_int  total_rec_late_fee    recoveries  \\\n",
       "count  ...    8141.000000         8141.000000   8141.000000   \n",
       "mean   ...    3289.437015            1.482816    152.268331   \n",
       "std    ...    3165.539793            8.407456   1002.057442   \n",
       "min    ...       0.000000            0.000000      0.000000   \n",
       "25%    ...    1148.140000            0.000000      0.000000   \n",
       "50%    ...    2268.470000            0.000000      0.000000   \n",
       "75%    ...    4350.650000            0.000000      0.000000   \n",
       "max    ...   23563.680000          180.200000  29623.350000   \n",
       "\n",
       "       collection_recovery_fee  last_pymnt_amnt  pub_rec_bankruptcies  \\\n",
       "count              8141.000000      8141.000000           8045.000000   \n",
       "mean                 17.033946      4293.158770              0.042759   \n",
       "std                 160.116662      5873.358038              0.203552   \n",
       "min                   0.000000         0.000000              0.000000   \n",
       "25%                   0.000000       377.330000              0.000000   \n",
       "50%                   0.000000      1096.510000              0.000000   \n",
       "75%                   0.000000      6417.790000              0.000000   \n",
       "max                5602.720000     35479.890000              2.000000   \n",
       "\n",
       "         grade_int  sub_grade_int   IssuedYear  IssuedMonth  \n",
       "count  8141.000000    8141.000000  8141.000000  8141.000000  \n",
       "mean      2.851370       3.087459  2010.414445     7.265692  \n",
       "std       1.502012       1.408370     0.807494     3.417729  \n",
       "min       1.000000       1.000000  2007.000000     1.000000  \n",
       "25%       2.000000       2.000000  2010.000000     5.000000  \n",
       "50%       3.000000       3.000000  2011.000000     8.000000  \n",
       "75%       4.000000       4.000000  2011.000000    10.000000  \n",
       "max       7.000000       5.000000  2011.000000    12.000000  \n",
       "\n",
       "[8 rows x 31 columns]"
      ]
     },
     "execution_count": 89,
     "metadata": {},
     "output_type": "execute_result"
    }
   ],
   "source": [
    "loan[(loan['annual_inc'] > 60000) & (loan['purpose']=='debt_consolidation')].describe()"
   ]
  },
  {
   "cell_type": "code",
   "execution_count": 90,
   "id": "cc0aacb2",
   "metadata": {},
   "outputs": [],
   "source": [
    "#sns.pairplot(loan)"
   ]
  },
  {
   "cell_type": "code",
   "execution_count": 91,
   "id": "e5932084",
   "metadata": {},
   "outputs": [
    {
     "data": {
      "text/plain": [
       "{'whiskers': [<matplotlib.lines.Line2D at 0x1b5551a7700>,\n",
       "  <matplotlib.lines.Line2D at 0x1b5551a79d0>],\n",
       " 'caps': [<matplotlib.lines.Line2D at 0x1b55518d040>,\n",
       "  <matplotlib.lines.Line2D at 0x1b5551a7ee0>],\n",
       " 'boxes': [<matplotlib.lines.Line2D at 0x1b5551a7430>],\n",
       " 'medians': [<matplotlib.lines.Line2D at 0x1b5553761f0>],\n",
       " 'fliers': [<matplotlib.lines.Line2D at 0x1b5553764c0>],\n",
       " 'means': []}"
      ]
     },
     "execution_count": 91,
     "metadata": {},
     "output_type": "execute_result"
    },
    {
     "data": {
      "image/png": "[encoded data removed]",
      "text/plain": [
       "<Figure size 1080x504 with 2 Axes>"
      ]
     },
     "metadata": {
      "needs_background": "light"
     },
     "output_type": "display_data"
    }
   ],
   "source": [
    "plt.figure(figsize=(15,7))\n",
    "plt.subplot(1,2,1)\n",
    "plt.boxplot(loan.loan_amnt)\n",
    "plt.subplot(1,2,2)\n",
    "plt.boxplot(loan[loan['loan_amnt'] > 10000].loan_amnt)"
   ]
  },
  {
   "cell_type": "code",
   "execution_count": 92,
   "id": "1b4b5bba",
   "metadata": {},
   "outputs": [
    {
     "data": {
      "image/png": "[encoded data removed]",
      "text/plain": [
       "<Figure size 1080x720 with 1 Axes>"
      ]
     },
     "metadata": {
      "needs_background": "light"
     },
     "output_type": "display_data"
    }
   ],
   "source": [
    "plt.figure(figsize=(15,10))\n",
    "ax = sns.barplot(data =loan,x='loan_amnt', y='purpose',palette=\"deep\",errwidth=0) # hue ='loan_status',\n",
    "for i in ax.containers:\n",
    "    ax.bar_label(i,)"
   ]
  },
  {
   "cell_type": "markdown",
   "id": "e473eb06",
   "metadata": {},
   "source": [
    "### Bivariate analysis adds another dimension to the 'Purpose' univariate analysis by telling that Borrowers from high income group spend more on Home Improvements"
   ]
  },
  {
   "cell_type": "code",
   "execution_count": 93,
   "id": "ad1a4f78",
   "metadata": {
    "scrolled": true
   },
   "outputs": [
    {
     "data": {
      "text/plain": [
       "<AxesSubplot:title={'center':'Funded Amount by Investor against Loan Term'}, xlabel='term', ylabel='funded_amnt_inv'>"
      ]
     },
     "execution_count": 93,
     "metadata": {},
     "output_type": "execute_result"
    },
    {
     "data": {
      "image/png": "[encoded data removed]",
      "text/plain": [
       "<Figure size 576x288 with 1 Axes>"
      ]
     },
     "metadata": {
      "needs_background": "light"
     },
     "output_type": "display_data"
    }
   ],
   "source": [
    "plt.figure(figsize=(8,4))\n",
    "plt.title('Funded Amount by Investor against Loan Term')\n",
    "sns.barplot(data =loan,x='term', y='funded_amnt_inv', palette=\"deep\") #hue ='loan_amnt',\n",
    "\n",
    "#sns.barplot(loan['annual_inc'],loan['purpose'], hue ='loan_status',palette=\"deep\")"
   ]
  },
  {
   "cell_type": "markdown",
   "id": "e39a70b0",
   "metadata": {},
   "source": [
    "### Longer the term, higher the loan amount taken"
   ]
  },
  {
   "cell_type": "code",
   "execution_count": 94,
   "id": "39faa923",
   "metadata": {
    "scrolled": true
   },
   "outputs": [
    {
     "data": {
      "image/png": "[encoded data removed]",
      "text/plain": [
       "<Figure size 864x360 with 1 Axes>"
      ]
     },
     "metadata": {
      "needs_background": "light"
     },
     "output_type": "display_data"
    }
   ],
   "source": [
    "plt.figure(figsize=(12,5))\n",
    "plt.scatter(loan['funded_amnt_inv'] ,loan['purpose'])\n",
    "plt.show()"
   ]
  },
  {
   "cell_type": "markdown",
   "id": "853c7c86",
   "metadata": {},
   "source": [
    "### Higher loan amounts are predominantly taken for Debt Consolidation, Home Improvement & Credit Card"
   ]
  },
  {
   "cell_type": "code",
   "execution_count": 97,
   "id": "02babd36",
   "metadata": {},
   "outputs": [
    {
     "data": {
      "text/plain": [
       "<AxesSubplot:title={'center':'Delinquent in last 2 years against Funded Amount Category'}, xlabel='delinq_2yrs', ylabel='funded_amnt_inv_bin'>"
      ]
     },
     "execution_count": 97,
     "metadata": {},
     "output_type": "execute_result"
    },
    {
     "data": {
      "image/png": "[encoded data removed]",
      "text/plain": [
       "<Figure size 576x288 with 1 Axes>"
      ]
     },
     "metadata": {
      "needs_background": "light"
     },
     "output_type": "display_data"
    }
   ],
   "source": [
    "plt.figure(figsize=(8,4))\n",
    "plt.title('Delinquent in last 2 years against Funded Amount Category')\n",
    "sns.barplot(data =loan,x='delinq_2yrs', y='funded_amnt_inv_bin', hue ='loan_status', palette=\"deep\", errwidth=0)\n",
    "\n",
    "#sns.barplot(loan['annual_inc'],loan['purpose'], hue ='loan_status',palette=\"deep\")"
   ]
  },
  {
   "cell_type": "code",
   "execution_count": 98,
   "id": "bde97719",
   "metadata": {},
   "outputs": [
    {
     "data": {
      "text/plain": [
       "<AxesSubplot:title={'center':'Delinquent in last 2 years against Funded Amount Category'}, xlabel='delinq_2yrs', ylabel='funded_amnt_inv_bin'>"
      ]
     },
     "execution_count": 98,
     "metadata": {},
     "output_type": "execute_result"
    },
    {
     "data": {
      "image/png": "[encoded data removed]",
      "text/plain": [
       "<Figure size 576x288 with 1 Axes>"
      ]
     },
     "metadata": {
      "needs_background": "light"
     },
     "output_type": "display_data"
    }
   ],
   "source": [
    "plt.figure(figsize=(8,4))\n",
    "plt.title('Delinquent in last 2 years against Funded Amount Category')\n",
    "sns.barplot(data =loan,x='delinq_2yrs', y='funded_amnt_inv_bin', hue ='verification_status', palette=\"deep\", errwidth=0)\n",
    "\n",
    "#sns.barplot(loan['annual_inc'],loan['purpose'], hue ='loan_status',palette=\"deep\")"
   ]
  },
  {
   "cell_type": "code",
   "execution_count": 110,
   "id": "03070953",
   "metadata": {},
   "outputs": [
    {
     "data": {
      "text/plain": [
       "<AxesSubplot:title={'center':'Delinquent in last 2 years against US-State'}, xlabel='delinq_2yrs', ylabel='addr_state'>"
      ]
     },
     "execution_count": 110,
     "metadata": {},
     "output_type": "execute_result"
    },
    {
     "data": {
      "image/png": "[encoded data removed]",
      "text/plain": [
       "<Figure size 288x720 with 1 Axes>"
      ]
     },
     "metadata": {
      "needs_background": "light"
     },
     "output_type": "display_data"
    }
   ],
   "source": [
    "plt.figure(figsize=(4,10))\n",
    "plt.title('Delinquent in last 2 years against US-State')\n",
    "sns.barplot(data =loan,x='delinq_2yrs', y='addr_state',  palette=\"deep\", errwidth=0)# hue ='verification_status',\n",
    "\n",
    "#sns.barplot(loan['annual_inc'],loan['purpose'], hue ='loan_status',palette=\"deep\")"
   ]
  },
  {
   "cell_type": "code",
   "execution_count": null,
   "id": "be0a0a2e",
   "metadata": {},
   "outputs": [],
   "source": [
    "# Plotting average overall default rate\n",
    "import datetime\n",
    "loan['issue_year'] = loan['issue_d'].apply(lambda x : datetime.datetime.strptime(x, '%b-%y').year)\n",
    "\n",
    "sns.set(style=\"darkgrid\")\n",
    "def plt_freq(x_var,data_df,x_label,title,hue_var=None,rot_flag=0,fig_size_x=15,fig_size_y=6):\n",
    "    ncount = len(loan)\n",
    "    dims = (fig_size_x,fig_size_y)\n",
    "    plt.figure(figsize=dims)\n",
    "    ax = sns.countplot(x=x_var, data=data_df, hue= hue_var , palette=\"Set2\")\n",
    "    plt.title(title)\n",
    "    plt.xlabel(x_label)\n",
    "\n",
    "    # Make twin axis\n",
    "    ax2=ax.twinx()\n",
    "\n",
    "    # Switch so count axis is on right, frequency on left\n",
    "    ax2.yaxis.tick_left()\n",
    "    ax.yaxis.tick_right()\n",
    "\n",
    "    # Also switch the labels over\n",
    "    ax.yaxis.set_label_position('right')\n",
    "    ax2.yaxis.set_label_position('left')\n",
    "    if(rot_flag==1):\n",
    "        ax.set_xticklabels(ax.get_xticklabels(), rotation=40, ha=\"right\", fontsize=12)\n",
    "        plt.tight_layout()\n",
    "    ax2.set_ylabel('Frequency [%]')\n",
    "\n",
    "    for p in ax.patches:\n",
    "        x=p.get_bbox().get_points()[:,0]\n",
    "        y=p.get_bbox().get_points()[1,1]\n",
    "        ax.annotate('{:.1f}%'.format(100.*y/ncount), (x.mean(), y), \n",
    "                ha='center', va='bottom') # set the alignment of the text\n",
    "\n",
    "    # Need to turn the grid on ax2 off, otherwise the gridlines end up on top of the bars\n",
    "    ax2.grid(None)\n",
    "    \n",
    "plt_freq(\"loan_status\",loan,'Loan Status','Average overall Default rates')\n",
    "plt_freq(\"issue_year\",loan,'Loan Issue Year','Average overall distribution of loans in every year')\n",
    "plt_freq(\"purpose\",loan,'Purpose of Loan','Average distribution of loans across various categories',\"loan_status\",1)\n",
    "plt_freq(\"sub_grade\",loan,'Grade of Loan','Average distribution of loans across various Grades')\n",
    "plt_freq(\"emp_length\",loan,'Employee Experience','Average distribution of loans across employee experience',\"loan_status\")"
   ]
  },
  {
   "cell_type": "code",
   "execution_count": null,
   "id": "1e976949",
   "metadata": {},
   "outputs": [],
   "source": []
  },
  {
   "cell_type": "code",
   "execution_count": null,
   "id": "e5357b25",
   "metadata": {},
   "outputs": [],
   "source": [
    "#fig,ax = plt.subplots(figsize = (12,8))\n",
    "\n",
    "fig,ax = plt.subplots(figsize = (12,7))\n",
    "#ax.set(xscale = 'log')\n",
    "\n",
    "sns.countplot(x=loan.sub_grade, hue = loan.loan_status, order=(['A1', 'A2','A3', 'A4','A5','B1','B2', 'B3', 'B4', 'B5', \n",
    "'C1', 'C2','C3','C4', 'C5', 'D1', 'D2', 'D3','D4','D5', 'E1','E2','E3', 'E4', 'E5', \n",
    "'F1', 'F2','F3', 'F4','F5', 'G1','G2','G3', 'G4', 'G5'])) #palette = 'Set2', hue_order ="
   ]
  },
  {
   "cell_type": "code",
   "execution_count": null,
   "id": "8d10a842",
   "metadata": {},
   "outputs": [],
   "source": [
    "loan.sub_grade.unique()"
   ]
  },
  {
   "cell_type": "code",
   "execution_count": null,
   "id": "894e703a",
   "metadata": {},
   "outputs": [],
   "source": [
    "def dti_range_calculator(dti):\n",
    "    if dti <= 10.00:\n",
    "        return 'low'\n",
    "    elif (dti >10.00 and dti <= 20.00):\n",
    "        return 'medium'\n",
    "    else:\n",
    "        return 'high'\n",
    "\n",
    "loan['dti_range'] = loan['dti'].apply(lambda x : dti_range_calculator(x))\n",
    "plt_freq(\"loan_status\",loan,'Loan Status','Average distribution of loans across category and dti','dti_range')"
   ]
  },
  {
   "cell_type": "code",
   "execution_count": null,
   "id": "c48684a2",
   "metadata": {},
   "outputs": [],
   "source": [
    "loan['yr_install'] = loan.installment * 12 \n",
    "loan['iti'] = round(loan.yr_install/loan.annual_inc,4)\n",
    "loan.filter([ 'installment', 'yr_install', 'annual_inc' , 'dti','iti' ]).head()"
   ]
  },
  {
   "cell_type": "code",
   "execution_count": null,
   "id": "3707b069",
   "metadata": {},
   "outputs": [],
   "source": [
    "# Filtering all the numerical values to understand their correlation\n",
    "loan_data_corr = loan.filter([\"funded_amnt_inv\",\"int_rate\",\"emp_length\",\"annual_inc\",\"dti\",\"installment\",\"iti\"]) \n",
    "cor = loan_data_corr.corr()\n",
    "round(cor, 3)\n",
    "#Plotting Heat map to understand correlation visually\n",
    "plt.figure(figsize=(10,8))\n",
    "\n",
    "# heatmap\n",
    "sns.heatmap(cor, cmap=\"YlGnBu\", annot=True, mask = (np.abs(cor) <= 0.5))\n",
    "plt.show()"
   ]
  },
  {
   "cell_type": "code",
   "execution_count": null,
   "id": "5e854a91",
   "metadata": {},
   "outputs": [],
   "source": [
    "loan.info()"
   ]
  },
  {
   "cell_type": "code",
   "execution_count": 152,
   "id": "594c4cc3",
   "metadata": {},
   "outputs": [
    {
     "data": {
      "image/png": "[encoded data removed]",
      "text/plain": [
       "<Figure size 720x504 with 1 Axes>"
      ]
     },
     "metadata": {
      "needs_background": "light"
     },
     "output_type": "display_data"
    }
   ],
   "source": [
    "#1. Annual income vs purpose\n",
    "\n",
    "plt.figure(figsize=(10,7))\n",
    "sns.barplot(data =loan,x='annual_inc', y='purpose', hue ='loan_status',palette=\"deep\")\n",
    "plt.show()\n",
    "\n",
    "\n"
   ]
  },
  {
   "cell_type": "code",
   "execution_count": 154,
   "id": "8b71b39f",
   "metadata": {},
   "outputs": [
    {
     "data": {
      "image/png": "[encoded data removed]",
      "text/plain": [
       "<Figure size 720x504 with 1 Axes>"
      ]
     },
     "metadata": {
      "needs_background": "light"
     },
     "output_type": "display_data"
    }
   ],
   "source": [
    "\n",
    "#6. Loan vs Loan purpose\n",
    "plt.figure(figsize=(10,7))\n",
    "sns.barplot(data =loan,x='funded_amnt_inv', y='purpose', hue ='loan_status',palette=\"pastel\")\n",
    "plt.show()\n",
    "\n"
   ]
  },
  {
   "cell_type": "code",
   "execution_count": 158,
   "id": "95179895",
   "metadata": {},
   "outputs": [
    {
     "data": {
      "image/png": "[encoded data removed]",
      "text/plain": [
       "<Figure size 720x288 with 1 Axes>"
      ]
     },
     "metadata": {
      "needs_background": "light"
     },
     "output_type": "display_data"
    }
   ],
   "source": [
    "#2.Annual income vs home ownership\n",
    "plt.figure(figsize=(10,4))\n",
    "sns.barplot(data =loan,x='annual_inc', y='home_ownership', hue ='loan_status',palette=\"pastel\")\n",
    "plt.show()\n",
    "\n"
   ]
  },
  {
   "cell_type": "code",
   "execution_count": 160,
   "id": "b736a52d",
   "metadata": {},
   "outputs": [
    {
     "data": {
      "image/png": "[encoded data removed]",
      "text/plain": [
       "<Figure size 720x504 with 1 Axes>"
      ]
     },
     "metadata": {
      "needs_background": "light"
     },
     "output_type": "display_data"
    }
   ],
   "source": [
    "#3. Annual Income vs Loan amount\n",
    "plt.figure(figsize=(10,7))\n",
    "sns.barplot(x = \"funded_amnt_inv\", y = \"annual_inc_bin\", hue = 'loan_status', data = loan)\n",
    "plt.show()\n",
    "\n"
   ]
  },
  {
   "cell_type": "markdown",
   "id": "d9893aa3",
   "metadata": {},
   "source": [
    "#### More the income, more the loan availed"
   ]
  },
  {
   "cell_type": "code",
   "execution_count": 161,
   "id": "bb64cc36",
   "metadata": {},
   "outputs": [
    {
     "data": {
      "image/png": "[encoded data removed]",
      "text/plain": [
       "<Figure size 720x288 with 1 Axes>"
      ]
     },
     "metadata": {
      "needs_background": "light"
     },
     "output_type": "display_data"
    }
   ],
   "source": [
    "#4. Annual income vs int_rate\n",
    "plt.figure(figsize=(10,4))\n",
    "sns.barplot(data =loan,x='annual_inc', y='int_rate_bin', hue ='loan_status',palette=\"pastel\")\n",
    "plt.show()\n",
    "\n"
   ]
  },
  {
   "cell_type": "code",
   "execution_count": 203,
   "id": "358a67aa",
   "metadata": {},
   "outputs": [
    {
     "data": {
      "image/png": "[encoded data removed]",
      "text/plain": [
       "<Figure size 720x360 with 1 Axes>"
      ]
     },
     "metadata": {
      "needs_background": "light"
     },
     "output_type": "display_data"
    }
   ],
   "source": [
    "#5. Loan Amount vs Avg Interest Rate\n",
    "plt.figure(figsize=(10,5))\n",
    "sns.barplot(data =loan,x='int_rate', y='funded_amnt_inv_bin', hue ='loan_status',palette=\"pastel\")\n",
    "plt.show()\n"
   ]
  },
  {
   "cell_type": "code",
   "execution_count": 199,
   "id": "67b403a6",
   "metadata": {},
   "outputs": [
    {
     "data": {
      "text/plain": [
       "10.748513513513513"
      ]
     },
     "execution_count": 199,
     "metadata": {},
     "output_type": "execute_result"
    }
   ],
   "source": [
    "loan[(loan['funded_amnt_inv_bin']=='LC Funded')].int_rate.mean()\n"
   ]
  },
  {
   "cell_type": "code",
   "execution_count": 201,
   "id": "1012e0ac",
   "metadata": {},
   "outputs": [
    {
     "data": {
      "image/png": "[encoded data removed]",
      "text/plain": [
       "<Figure size 720x288 with 1 Axes>"
      ]
     },
     "metadata": {
      "needs_background": "light"
     },
     "output_type": "display_data"
    }
   ],
   "source": [
    "#7. Loan vs House Ownership\n",
    "plt.figure(figsize=(10,4))\n",
    "sns.barplot(data =loan,x='funded_amnt_inv', y='home_ownership', hue ='loan_status',palette=\"pastel\")\n",
    "plt.show()"
   ]
  },
  {
   "cell_type": "code",
   "execution_count": 245,
   "id": "f06abb79",
   "metadata": {},
   "outputs": [
    {
     "data": {
      "text/plain": [
       "<AxesSubplot:xlabel='IssuedYear', ylabel='funded_amnt_inv'>"
      ]
     },
     "execution_count": 245,
     "metadata": {},
     "output_type": "execute_result"
    },
    {
     "data": {
      "image/png": "[encoded data removed]",
      "text/plain": [
       "<Figure size 1440x1440 with 2 Axes>"
      ]
     },
     "metadata": {
      "needs_background": "light"
     },
     "output_type": "display_data"
    }
   ],
   "source": [
    "#8a. Loan amount vs month issued and year issued\n",
    "plt.figure(figsize=(20,20))\n",
    "plt.subplot(221)\n",
    "sns.lineplot(data =loan,y='funded_amnt_inv', x='IssuedMonth', hue ='loan_status',palette=\"deep\")\n",
    "plt.subplot(222)\n",
    "sns.lineplot(data =loan,y='funded_amnt_inv', x='IssuedYear', hue ='loan_status',palette=\"pastel\")\n"
   ]
  },
  {
   "cell_type": "code",
   "execution_count": 249,
   "id": "32a43a1a",
   "metadata": {},
   "outputs": [
    {
     "data": {
      "image/png": "[encoded data removed]",
      "text/plain": [
       "<Figure size 1728x720 with 1 Axes>"
      ]
     },
     "metadata": {
      "needs_background": "light"
     },
     "output_type": "display_data"
    }
   ],
   "source": [
    "#8b. Loan amount vs month issued with 'Purpose' Variation\n",
    "\n",
    "plt.figure(figsize=(24,10))\n",
    "sns.barplot(data =loan[loan['purpose'].isin(['debt_consolidation','credit_card','small_business','other','educational'])] ,\n",
    "            y='funded_amnt_inv', x='IssuedMonth', hue ='purpose',palette=\"pastel\", errwidth=0)\n",
    "plt.show()\n"
   ]
  },
  {
   "cell_type": "code",
   "execution_count": 248,
   "id": "ad2c5bed",
   "metadata": {},
   "outputs": [
    {
     "data": {
      "image/png": "[encoded data removed]",
      "text/plain": [
       "<Figure size 432x288 with 1 Axes>"
      ]
     },
     "metadata": {
      "needs_background": "light"
     },
     "output_type": "display_data"
    }
   ],
   "source": [
    "sns.barplot(data =loan[~loan['purpose'].isin(['debt_consolidation','credit_card','small_business','other','educational'])] ,\n",
    "            y='funded_amnt_inv', x='IssuedMonth', hue ='purpose',palette=\"pastel\", errwidth=0)\n",
    "plt.show()\n"
   ]
  },
  {
   "cell_type": "code",
   "execution_count": 251,
   "id": "66856635",
   "metadata": {},
   "outputs": [
    {
     "data": {
      "image/png": "[encoded data removed]",
      "text/plain": [
       "<Figure size 720x504 with 1 Axes>"
      ]
     },
     "metadata": {
      "needs_background": "light"
     },
     "output_type": "display_data"
    }
   ],
   "source": [
    "#9. Loan amount vs Grade\n",
    "plt.figure(figsize=(10,7))\n",
    "sns.barplot(data =loan,x='funded_amnt_inv', y='grade', hue ='loan_status',palette=\"pastel\", order=['A','B','C','D','E','F','G'])\n",
    "plt.show()\n",
    "\n"
   ]
  },
  {
   "cell_type": "markdown",
   "id": "346352b0",
   "metadata": {},
   "source": [
    "### Grade E F G been santioned the highest loan amount"
   ]
  },
  {
   "cell_type": "code",
   "execution_count": 256,
   "id": "03518d25",
   "metadata": {},
   "outputs": [
    {
     "data": {
      "image/png": "[encoded data removed]",
      "text/plain": [
       "<Figure size 720x504 with 1 Axes>"
      ]
     },
     "metadata": {
      "needs_background": "light"
     },
     "output_type": "display_data"
    }
   ],
   "source": [
    "#10. Loan amt vs emp_length\n",
    "plt.figure(figsize=(10,7))\n",
    "sns.barplot(data =loan,x='emp_length', y='funded_amnt_inv', hue ='loan_status',palette=\"pastel\",orient = 'v')\n",
    "plt.show()"
   ]
  },
  {
   "cell_type": "code",
   "execution_count": 262,
   "id": "8263d728",
   "metadata": {},
   "outputs": [
    {
     "data": {
      "image/png": "[encoded data removed]",
      "text/plain": [
       "<Figure size 720x288 with 1 Axes>"
      ]
     },
     "metadata": {
      "needs_background": "light"
     },
     "output_type": "display_data"
    }
   ],
   "source": [
    "#11.  Loan_amt vs Source Verified\n",
    "plt.figure(figsize=(10,4))\n",
    "sns.barplot(data =loan,x='funded_amnt_inv', y='verification_status', hue ='grade',palette=\"pastel\", errwidth=0)\n",
    "plt.show()"
   ]
  },
  {
   "cell_type": "code",
   "execution_count": null,
   "id": "54f2d696",
   "metadata": {},
   "outputs": [],
   "source": [
    "#12. Grade vs interest rate\n",
    "plt.figure(figsize=(10,10))\n",
    "sns.barplot(data =loan,x='int_rate', y='grade', hue ='loan_status',palette=\"pastel\", order=['A','B','C','D','E','F','G'])\n",
    "plt.show()"
   ]
  },
  {
   "cell_type": "code",
   "execution_count": null,
   "id": "97e4b09e",
   "metadata": {},
   "outputs": [],
   "source": [
    "#13. Loan Amnt Groups vs Int_rate\n",
    "#loan['funded_amnt_inv_bin'] = pd.cut(loan['funded_amnt_inv'], bins=7,precision =0,labels=['0-5k','5k-10k','10k-15k','15k-20k','20k-25k','25k-30k','30k-35k'])\n",
    "plt.tight_layout()\n",
    "sns.catplot(data =loan,y ='int_rate', x ='funded_amnt_inv_bin', hue ='loan_status',palette=\"pastel\",kind = 'box')\n",
    "plt.show()"
   ]
  },
  {
   "cell_type": "code",
   "execution_count": null,
   "id": "0142081f",
   "metadata": {},
   "outputs": [],
   "source": [
    "#14. Loan amnt vs Term\n",
    "sns.catplot(x = 'term', y = 'funded_amnt_inv', data = loan,hue = 'loan_status', kind = 'bar')\n",
    "plt.show()"
   ]
  },
  {
   "cell_type": "code",
   "execution_count": null,
   "id": "d16753ca",
   "metadata": {},
   "outputs": [],
   "source": [
    "q0, q25,q50, q75 ,q95, q100= np.percentile(loan['funded_amnt_inv'], [0,25, 50, 75,95, 100])\n",
    "print(q0)\n",
    "print(q25)\n",
    "print(q50)\n",
    "print(q75)\n",
    "print(q95)\n",
    "print(q100)"
   ]
  },
  {
   "cell_type": "code",
   "execution_count": null,
   "id": "5da4cf99",
   "metadata": {},
   "outputs": [],
   "source": [
    "loan[loan['funded_amnt_inv']==0].describe()"
   ]
  },
  {
   "cell_type": "code",
   "execution_count": null,
   "id": "90769cf4",
   "metadata": {},
   "outputs": [],
   "source": []
  },
  {
   "cell_type": "code",
   "execution_count": null,
   "id": "a7dff498",
   "metadata": {},
   "outputs": [],
   "source": [
    "loan.groupby(['funded_amnt_inv_bin']).sum()"
   ]
  },
  {
   "cell_type": "code",
   "execution_count": null,
   "id": "dff3b624",
   "metadata": {},
   "outputs": [],
   "source": [
    "\n",
    "# displaying the datatypes\n",
    "#display(loan.dtypes)\n",
    "  \n",
    "# converting 'annual_inc' from float to int\n",
    "#loan = loan.astype({\"annual_inc\":'int'}) \n",
    "#loan['annual_inc'] = loan['annual_inc'].apply(np.int64)\n",
    "\n",
    "#display(loan.dtypes)"
   ]
  }
 ],
 "metadata": {
  "kernelspec": {
   "display_name": "Python 3 (ipykernel)",
   "language": "python",
   "name": "python3"
  },
  "language_info": {
   "codemirror_mode": {
    "name": "ipython",
    "version": 3
   },
   "file_extension": ".py",
   "mimetype": "text/x-python",
   "name": "python",
   "nbconvert_exporter": "python",
   "pygments_lexer": "ipython3",
   "version": "3.9.12"
  }
 },
 "nbformat": 4,
 "nbformat_minor": 5
}
